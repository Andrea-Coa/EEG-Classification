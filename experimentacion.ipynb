{
  "cells": [
    {
      "cell_type": "code",
      "execution_count": 1,
      "metadata": {
        "colab": {
          "base_uri": "https://localhost:8080/"
        },
        "id": "TS2U7Qd2Z_Lp",
        "outputId": "da6fe726-3925-4255-acd9-93f266808ae1"
      },
      "outputs": [],
      "source": [
        "# !pip install Rtree\n",
        "# !pip install pyts"
      ]
    },
    {
      "cell_type": "code",
      "execution_count": 1,
      "metadata": {
        "id": "McX9i5b8Zxx3"
      },
      "outputs": [],
      "source": [
        "import numpy as np\n",
        "# import pandas as pd\n",
        "from importlib import reload\n",
        "import matplotlib.pyplot as plt\n",
        "import h5py\n",
        "from pyts.transformation import BagOfPatterns, BOSS, WEASEL\n",
        "from sklearn.model_selection import train_test_split\n",
        "from sklearn.metrics import f1_score\n",
        "from rtree import index\n",
        "from sklearn.feature_selection import SelectKBest\n",
        "from sklearn.feature_selection import chi2, f_classif\n",
        "from knnClassifier import kNNClassifier\n",
        "from logisticRegression import LogisticRegression"
      ]
    },
    {
      "cell_type": "markdown",
      "metadata": {
        "id": "B5gYueIRZ3it"
      },
      "source": [
        "# **utils**"
      ]
    },
    {
      "cell_type": "code",
      "execution_count": 2,
      "metadata": {
        "id": "l514qiaTZ27D"
      },
      "outputs": [],
      "source": [
        "def accuracy(y_true, y_pred):\n",
        "    accuracy = np.sum(y_true == y_pred) / len(y_true)\n",
        "    return accuracy\n",
        "\n",
        "def f1_score(actual_y, pred_y):\n",
        "    tp = np.sum((actual_y + pred_y) == 2)\n",
        "    fp = np.sum((actual_y - pred_y) == -1)\n",
        "    fn = np.sum((actual_y - pred_y) == 1)\n",
        "\n",
        "    print(\"True Positives (tp):\", tp)\n",
        "    print(\"False Positives (fp):\", fp)\n",
        "    print(\"False Negatives (fn):\", fn)\n",
        "\n",
        "    precision = tp / (tp + fp)\n",
        "    recall = tp / (tp + fn)\n",
        "\n",
        "    print(\"precision: \", precision)\n",
        "    print(\"recall: \", recall)\n",
        "\n",
        "    return 2 * precision * recall / (precision + recall)"
      ]
    },
    {
      "cell_type": "markdown",
      "metadata": {
        "id": "cLTToxcZZxx6"
      },
      "source": [
        "# **Load data**"
      ]
    },
    {
      "cell_type": "code",
      "execution_count": 3,
      "metadata": {
        "colab": {
          "base_uri": "https://localhost:8080/"
        },
        "id": "FgAnQK80Zxx7",
        "outputId": "80294542-dd51-4ef5-dcb4-9d10d6ad5956"
      },
      "outputs": [
        {
          "name": "stdout",
          "output_type": "stream",
          "text": [
            "<KeysViewHDF5 ['x', 'y']>\n"
          ]
        }
      ],
      "source": [
        "path = 'D:/Documents-D/Downloads/'\n",
        "\n",
        "# train data\n",
        "with h5py.File(path + 'train.h5', 'r') as f:\n",
        "   print(f.keys())\n",
        "   x_train_raw = f['x']\n",
        "   y_train_raw = f['y']\n",
        "\n",
        "   x_train = np.array(x_train_raw)\n",
        "   y_train = np.array(y_train_raw)\n",
        "\n",
        "# test data\n",
        "# with h5py.File(path + 'test.h5', 'r') as f:\n",
        "#    print(f.keys())\n",
        "#    x_test_raw = f['x']\n",
        "\n",
        "#    x_test = np.array(x_test_raw)"
      ]
    },
    {
      "cell_type": "code",
      "execution_count": 4,
      "metadata": {
        "id": "SV50EEXNZxx7"
      },
      "outputs": [],
      "source": [
        "x_train = x_train.reshape(x_train.shape[0], x_train.shape[2])\n",
        "y_train = y_train.reshape(y_train.shape[0], 1)\n",
        "\n",
        "# x_train1 = x_train[0:150]\n",
        "# x_train2 = x_train[150:]\n",
        "# y_train1 = y_train[0:150]\n",
        "# y_train2 = y_train[150:]\n",
        "\n",
        "x_train1, x_train2, y_train1, y_train2 = train_test_split(\n",
        "    x_train, y_train, test_size=0.3, random_state=56\n",
        ")\n",
        "\n",
        "del y_train\n",
        "del x_train"
      ]
    },
    {
      "cell_type": "markdown",
      "metadata": {},
      "source": [
        "# **Feature Extraction**"
      ]
    },
    {
      "cell_type": "markdown",
      "metadata": {
        "id": "Y7N1L-q0Zxx8"
      },
      "source": [
        "### **Bag Of Patterns**"
      ]
    },
    {
      "cell_type": "code",
      "execution_count": 5,
      "metadata": {
        "id": "WGCQjl9WZxx9"
      },
      "outputs": [],
      "source": [
        "bop = BagOfPatterns(\n",
        "    window_size=40,\n",
        "    word_size=30,\n",
        "    n_bins=4,\n",
        "    strategy='quantile'\n",
        ")\n",
        "\n",
        "x_train1_transformed = bop.fit_transform(x_train1)\n",
        "x_train2_transformed = bop.transform(x_train2)"
      ]
    },
    {
      "cell_type": "code",
      "execution_count": null,
      "metadata": {},
      "outputs": [],
      "source": [
        "del bop\n",
        "del x_train1_transformed\n",
        "del x_train2_transformed"
      ]
    },
    {
      "cell_type": "markdown",
      "metadata": {},
      "source": [
        "### **BOSS**"
      ]
    },
    {
      "cell_type": "code",
      "execution_count": 5,
      "metadata": {},
      "outputs": [],
      "source": [
        "boss = BOSS(\n",
        "    window_size=30,\n",
        "    word_size=20,\n",
        "    n_bins=4,\n",
        "    strategy='entropy'\n",
        ")\n",
        "\n",
        "x_train1_transformed = boss.fit_transform(x_train1,y=y_train1)\n",
        "x_train2_transformed = boss.transform(x_train2)\n",
        "\n",
        "# del boss\n",
        "# del x_train1_transformed\n",
        "# del x_train2_transformed"
      ]
    },
    {
      "cell_type": "markdown",
      "metadata": {},
      "source": [
        "### **WEASEL**"
      ]
    },
    {
      "cell_type": "code",
      "execution_count": 41,
      "metadata": {},
      "outputs": [],
      "source": [
        "weasel = WEASEL(\n",
        "    word_size=15, \n",
        "    window_sizes=np.arange(20, 50),\n",
        "    n_bins=4,\n",
        "    anova=True\n",
        ")\n",
        "\n",
        "x_train1_transformed = weasel.fit_transform(x_train1,y=y_train1.reshape((y_train1.shape[0],)))\n",
        "x_train2_transformed = weasel.transform(x_train2)"
      ]
    },
    {
      "cell_type": "markdown",
      "metadata": {},
      "source": [
        "# **Tune regression parameters**"
      ]
    },
    {
      "cell_type": "code",
      "execution_count": 6,
      "metadata": {},
      "outputs": [
        {
          "name": "stdout",
          "output_type": "stream",
          "text": [
            "- - - - - - - - LEARNING RATE:  0.005 - - - - - - - - - - -\n"
          ]
        },
        {
          "name": "stderr",
          "output_type": "stream",
          "text": [
            "d:\\Documents-D\\Projects\\EEG\\logisticRegression.py:4: RuntimeWarning: overflow encountered in exp\n",
            "  return 1.0 / (1.0 + np.exp(-z))\n",
            "C:\\Users\\Windows 11\\AppData\\Local\\Temp\\ipykernel_7580\\1298042984.py:14: RuntimeWarning: invalid value encountered in scalar divide\n",
            "  precision = tp / (tp + fp)\n"
          ]
        },
        {
          "name": "stdout",
          "output_type": "stream",
          "text": [
            "k.best:  15 ------\n",
            "True Positives (tp): 0\n",
            "False Positives (fp): 0\n",
            "False Negatives (fn): 17\n",
            "precision:  nan\n",
            "recall:  0.0\n",
            "accuracy:  0.7258064516129032 f1 score:  nan\n",
            "\n"
          ]
        },
        {
          "name": "stderr",
          "output_type": "stream",
          "text": [
            "d:\\Documents-D\\Projects\\EEG\\logisticRegression.py:4: RuntimeWarning: overflow encountered in exp\n",
            "  return 1.0 / (1.0 + np.exp(-z))\n"
          ]
        },
        {
          "name": "stdout",
          "output_type": "stream",
          "text": [
            "k.best:  20 ------\n",
            "True Positives (tp): 2\n",
            "False Positives (fp): 3\n",
            "False Negatives (fn): 15\n",
            "precision:  0.4\n",
            "recall:  0.11764705882352941\n",
            "accuracy:  0.7096774193548387 f1 score:  0.1818181818181818\n",
            "\n"
          ]
        },
        {
          "name": "stderr",
          "output_type": "stream",
          "text": [
            "d:\\Documents-D\\Projects\\EEG\\logisticRegression.py:4: RuntimeWarning: overflow encountered in exp\n",
            "  return 1.0 / (1.0 + np.exp(-z))\n"
          ]
        },
        {
          "name": "stdout",
          "output_type": "stream",
          "text": [
            "k.best:  25 ------\n",
            "True Positives (tp): 1\n",
            "False Positives (fp): 1\n",
            "False Negatives (fn): 16\n",
            "precision:  0.5\n",
            "recall:  0.058823529411764705\n",
            "accuracy:  0.7258064516129032 f1 score:  0.10526315789473684\n",
            "\n"
          ]
        },
        {
          "name": "stderr",
          "output_type": "stream",
          "text": [
            "d:\\Documents-D\\Projects\\EEG\\logisticRegression.py:4: RuntimeWarning: overflow encountered in exp\n",
            "  return 1.0 / (1.0 + np.exp(-z))\n"
          ]
        },
        {
          "name": "stdout",
          "output_type": "stream",
          "text": [
            "k.best:  35 ------\n",
            "True Positives (tp): 1\n",
            "False Positives (fp): 2\n",
            "False Negatives (fn): 16\n",
            "precision:  0.3333333333333333\n",
            "recall:  0.058823529411764705\n",
            "accuracy:  0.7096774193548387 f1 score:  0.1\n",
            "\n"
          ]
        },
        {
          "name": "stderr",
          "output_type": "stream",
          "text": [
            "d:\\Documents-D\\Projects\\EEG\\logisticRegression.py:4: RuntimeWarning: overflow encountered in exp\n",
            "  return 1.0 / (1.0 + np.exp(-z))\n"
          ]
        },
        {
          "name": "stdout",
          "output_type": "stream",
          "text": [
            "k.best:  40 ------\n",
            "True Positives (tp): 13\n",
            "False Positives (fp): 26\n",
            "False Negatives (fn): 4\n",
            "precision:  0.3333333333333333\n",
            "recall:  0.7647058823529411\n",
            "accuracy:  0.5161290322580645 f1 score:  0.4642857142857143\n",
            "\n"
          ]
        },
        {
          "name": "stderr",
          "output_type": "stream",
          "text": [
            "d:\\Documents-D\\Projects\\EEG\\logisticRegression.py:4: RuntimeWarning: overflow encountered in exp\n",
            "  return 1.0 / (1.0 + np.exp(-z))\n"
          ]
        },
        {
          "name": "stdout",
          "output_type": "stream",
          "text": [
            "k.best:  50 ------\n",
            "True Positives (tp): 14\n",
            "False Positives (fp): 19\n",
            "False Negatives (fn): 3\n",
            "precision:  0.42424242424242425\n",
            "recall:  0.8235294117647058\n",
            "accuracy:  0.6451612903225806 f1 score:  0.5599999999999999\n",
            "\n"
          ]
        },
        {
          "name": "stderr",
          "output_type": "stream",
          "text": [
            "d:\\Documents-D\\Projects\\EEG\\logisticRegression.py:4: RuntimeWarning: overflow encountered in exp\n",
            "  return 1.0 / (1.0 + np.exp(-z))\n"
          ]
        },
        {
          "name": "stdout",
          "output_type": "stream",
          "text": [
            "k.best:  55 ------\n",
            "True Positives (tp): 6\n",
            "False Positives (fp): 12\n",
            "False Negatives (fn): 11\n",
            "precision:  0.3333333333333333\n",
            "recall:  0.35294117647058826\n",
            "accuracy:  0.6290322580645161 f1 score:  0.34285714285714286\n",
            "\n"
          ]
        },
        {
          "name": "stderr",
          "output_type": "stream",
          "text": [
            "d:\\Documents-D\\Projects\\EEG\\logisticRegression.py:4: RuntimeWarning: overflow encountered in exp\n",
            "  return 1.0 / (1.0 + np.exp(-z))\n"
          ]
        },
        {
          "name": "stdout",
          "output_type": "stream",
          "text": [
            "k.best:  70 ------\n",
            "True Positives (tp): 6\n",
            "False Positives (fp): 9\n",
            "False Negatives (fn): 11\n",
            "precision:  0.4\n",
            "recall:  0.35294117647058826\n",
            "accuracy:  0.6774193548387096 f1 score:  0.37500000000000006\n",
            "\n"
          ]
        },
        {
          "name": "stderr",
          "output_type": "stream",
          "text": [
            "d:\\Documents-D\\Projects\\EEG\\logisticRegression.py:4: RuntimeWarning: overflow encountered in exp\n",
            "  return 1.0 / (1.0 + np.exp(-z))\n"
          ]
        },
        {
          "name": "stdout",
          "output_type": "stream",
          "text": [
            "k.best:  100 ------\n",
            "True Positives (tp): 3\n",
            "False Positives (fp): 4\n",
            "False Negatives (fn): 14\n",
            "precision:  0.42857142857142855\n",
            "recall:  0.17647058823529413\n",
            "accuracy:  0.7096774193548387 f1 score:  0.25\n",
            "\n"
          ]
        },
        {
          "name": "stderr",
          "output_type": "stream",
          "text": [
            "d:\\Documents-D\\Projects\\EEG\\logisticRegression.py:4: RuntimeWarning: overflow encountered in exp\n",
            "  return 1.0 / (1.0 + np.exp(-z))\n"
          ]
        },
        {
          "name": "stdout",
          "output_type": "stream",
          "text": [
            "k.best:  120 ------\n",
            "True Positives (tp): 7\n",
            "False Positives (fp): 12\n",
            "False Negatives (fn): 10\n",
            "precision:  0.3684210526315789\n",
            "recall:  0.4117647058823529\n",
            "accuracy:  0.6451612903225806 f1 score:  0.3888888888888889\n",
            "\n"
          ]
        },
        {
          "name": "stderr",
          "output_type": "stream",
          "text": [
            "d:\\Documents-D\\Projects\\EEG\\logisticRegression.py:4: RuntimeWarning: overflow encountered in exp\n",
            "  return 1.0 / (1.0 + np.exp(-z))\n"
          ]
        },
        {
          "name": "stdout",
          "output_type": "stream",
          "text": [
            "k.best:  150 ------\n",
            "True Positives (tp): 5\n",
            "False Positives (fp): 9\n",
            "False Negatives (fn): 12\n",
            "precision:  0.35714285714285715\n",
            "recall:  0.29411764705882354\n",
            "accuracy:  0.6612903225806451 f1 score:  0.3225806451612903\n",
            "\n",
            "- - - - - - - - LEARNING RATE:  0.01 - - - - - - - - - - -\n"
          ]
        },
        {
          "name": "stderr",
          "output_type": "stream",
          "text": [
            "d:\\Documents-D\\Projects\\EEG\\logisticRegression.py:4: RuntimeWarning: overflow encountered in exp\n",
            "  return 1.0 / (1.0 + np.exp(-z))\n"
          ]
        },
        {
          "name": "stdout",
          "output_type": "stream",
          "text": [
            "k.best:  15 ------\n",
            "True Positives (tp): 12\n",
            "False Positives (fp): 17\n",
            "False Negatives (fn): 5\n",
            "precision:  0.41379310344827586\n",
            "recall:  0.7058823529411765\n",
            "accuracy:  0.6451612903225806 f1 score:  0.5217391304347826\n",
            "\n"
          ]
        },
        {
          "name": "stderr",
          "output_type": "stream",
          "text": [
            "d:\\Documents-D\\Projects\\EEG\\logisticRegression.py:4: RuntimeWarning: overflow encountered in exp\n",
            "  return 1.0 / (1.0 + np.exp(-z))\n"
          ]
        },
        {
          "name": "stdout",
          "output_type": "stream",
          "text": [
            "k.best:  20 ------\n",
            "True Positives (tp): 4\n",
            "False Positives (fp): 6\n",
            "False Negatives (fn): 13\n",
            "precision:  0.4\n",
            "recall:  0.23529411764705882\n",
            "accuracy:  0.6935483870967742 f1 score:  0.29629629629629634\n",
            "\n"
          ]
        },
        {
          "name": "stderr",
          "output_type": "stream",
          "text": [
            "d:\\Documents-D\\Projects\\EEG\\logisticRegression.py:4: RuntimeWarning: overflow encountered in exp\n",
            "  return 1.0 / (1.0 + np.exp(-z))\n"
          ]
        },
        {
          "name": "stdout",
          "output_type": "stream",
          "text": [
            "k.best:  25 ------\n",
            "True Positives (tp): 6\n",
            "False Positives (fp): 15\n",
            "False Negatives (fn): 11\n",
            "precision:  0.2857142857142857\n",
            "recall:  0.35294117647058826\n",
            "accuracy:  0.5806451612903226 f1 score:  0.31578947368421056\n",
            "\n"
          ]
        },
        {
          "name": "stderr",
          "output_type": "stream",
          "text": [
            "d:\\Documents-D\\Projects\\EEG\\logisticRegression.py:4: RuntimeWarning: overflow encountered in exp\n",
            "  return 1.0 / (1.0 + np.exp(-z))\n"
          ]
        },
        {
          "name": "stdout",
          "output_type": "stream",
          "text": [
            "k.best:  35 ------\n",
            "True Positives (tp): 9\n",
            "False Positives (fp): 17\n",
            "False Negatives (fn): 8\n",
            "precision:  0.34615384615384615\n",
            "recall:  0.5294117647058824\n",
            "accuracy:  0.5967741935483871 f1 score:  0.41860465116279066\n",
            "\n"
          ]
        },
        {
          "name": "stderr",
          "output_type": "stream",
          "text": [
            "d:\\Documents-D\\Projects\\EEG\\logisticRegression.py:4: RuntimeWarning: overflow encountered in exp\n",
            "  return 1.0 / (1.0 + np.exp(-z))\n"
          ]
        },
        {
          "name": "stdout",
          "output_type": "stream",
          "text": [
            "k.best:  40 ------\n",
            "True Positives (tp): 15\n",
            "False Positives (fp): 21\n",
            "False Negatives (fn): 2\n",
            "precision:  0.4166666666666667\n",
            "recall:  0.8823529411764706\n",
            "accuracy:  0.6290322580645161 f1 score:  0.5660377358490566\n",
            "\n"
          ]
        },
        {
          "name": "stderr",
          "output_type": "stream",
          "text": [
            "d:\\Documents-D\\Projects\\EEG\\logisticRegression.py:4: RuntimeWarning: overflow encountered in exp\n",
            "  return 1.0 / (1.0 + np.exp(-z))\n"
          ]
        },
        {
          "name": "stdout",
          "output_type": "stream",
          "text": [
            "k.best:  50 ------\n",
            "True Positives (tp): 7\n",
            "False Positives (fp): 14\n",
            "False Negatives (fn): 10\n",
            "precision:  0.3333333333333333\n",
            "recall:  0.4117647058823529\n",
            "accuracy:  0.6129032258064516 f1 score:  0.36842105263157887\n",
            "\n"
          ]
        },
        {
          "name": "stderr",
          "output_type": "stream",
          "text": [
            "d:\\Documents-D\\Projects\\EEG\\logisticRegression.py:4: RuntimeWarning: overflow encountered in exp\n",
            "  return 1.0 / (1.0 + np.exp(-z))\n"
          ]
        },
        {
          "name": "stdout",
          "output_type": "stream",
          "text": [
            "k.best:  55 ------\n",
            "True Positives (tp): 5\n",
            "False Positives (fp): 11\n",
            "False Negatives (fn): 12\n",
            "precision:  0.3125\n",
            "recall:  0.29411764705882354\n",
            "accuracy:  0.6290322580645161 f1 score:  0.30303030303030304\n",
            "\n"
          ]
        },
        {
          "name": "stderr",
          "output_type": "stream",
          "text": [
            "d:\\Documents-D\\Projects\\EEG\\logisticRegression.py:4: RuntimeWarning: overflow encountered in exp\n",
            "  return 1.0 / (1.0 + np.exp(-z))\n",
            "C:\\Users\\Windows 11\\AppData\\Local\\Temp\\ipykernel_7580\\1298042984.py:14: RuntimeWarning: invalid value encountered in scalar divide\n",
            "  precision = tp / (tp + fp)\n"
          ]
        },
        {
          "name": "stdout",
          "output_type": "stream",
          "text": [
            "k.best:  70 ------\n",
            "True Positives (tp): 0\n",
            "False Positives (fp): 0\n",
            "False Negatives (fn): 17\n",
            "precision:  nan\n",
            "recall:  0.0\n",
            "accuracy:  0.7258064516129032 f1 score:  nan\n",
            "\n"
          ]
        },
        {
          "name": "stderr",
          "output_type": "stream",
          "text": [
            "d:\\Documents-D\\Projects\\EEG\\logisticRegression.py:4: RuntimeWarning: overflow encountered in exp\n",
            "  return 1.0 / (1.0 + np.exp(-z))\n"
          ]
        },
        {
          "name": "stdout",
          "output_type": "stream",
          "text": [
            "k.best:  100 ------\n",
            "True Positives (tp): 3\n",
            "False Positives (fp): 6\n",
            "False Negatives (fn): 14\n",
            "precision:  0.3333333333333333\n",
            "recall:  0.17647058823529413\n",
            "accuracy:  0.6774193548387096 f1 score:  0.23076923076923078\n",
            "\n"
          ]
        },
        {
          "name": "stderr",
          "output_type": "stream",
          "text": [
            "d:\\Documents-D\\Projects\\EEG\\logisticRegression.py:4: RuntimeWarning: overflow encountered in exp\n",
            "  return 1.0 / (1.0 + np.exp(-z))\n"
          ]
        },
        {
          "name": "stdout",
          "output_type": "stream",
          "text": [
            "k.best:  120 ------\n",
            "True Positives (tp): 9\n",
            "False Positives (fp): 13\n",
            "False Negatives (fn): 8\n",
            "precision:  0.4090909090909091\n",
            "recall:  0.5294117647058824\n",
            "accuracy:  0.6612903225806451 f1 score:  0.46153846153846156\n",
            "\n"
          ]
        },
        {
          "name": "stderr",
          "output_type": "stream",
          "text": [
            "d:\\Documents-D\\Projects\\EEG\\logisticRegression.py:4: RuntimeWarning: overflow encountered in exp\n",
            "  return 1.0 / (1.0 + np.exp(-z))\n",
            "C:\\Users\\Windows 11\\AppData\\Local\\Temp\\ipykernel_7580\\1298042984.py:14: RuntimeWarning: invalid value encountered in scalar divide\n",
            "  precision = tp / (tp + fp)\n"
          ]
        },
        {
          "name": "stdout",
          "output_type": "stream",
          "text": [
            "k.best:  150 ------\n",
            "True Positives (tp): 0\n",
            "False Positives (fp): 0\n",
            "False Negatives (fn): 17\n",
            "precision:  nan\n",
            "recall:  0.0\n",
            "accuracy:  0.7258064516129032 f1 score:  nan\n",
            "\n",
            "- - - - - - - - LEARNING RATE:  0.05 - - - - - - - - - - -\n"
          ]
        },
        {
          "name": "stderr",
          "output_type": "stream",
          "text": [
            "d:\\Documents-D\\Projects\\EEG\\logisticRegression.py:4: RuntimeWarning: overflow encountered in exp\n",
            "  return 1.0 / (1.0 + np.exp(-z))\n"
          ]
        },
        {
          "name": "stdout",
          "output_type": "stream",
          "text": [
            "k.best:  15 ------\n",
            "True Positives (tp): 12\n",
            "False Positives (fp): 15\n",
            "False Negatives (fn): 5\n",
            "precision:  0.4444444444444444\n",
            "recall:  0.7058823529411765\n",
            "accuracy:  0.6774193548387096 f1 score:  0.5454545454545455\n",
            "\n"
          ]
        },
        {
          "name": "stderr",
          "output_type": "stream",
          "text": [
            "d:\\Documents-D\\Projects\\EEG\\logisticRegression.py:4: RuntimeWarning: overflow encountered in exp\n",
            "  return 1.0 / (1.0 + np.exp(-z))\n"
          ]
        },
        {
          "name": "stdout",
          "output_type": "stream",
          "text": [
            "k.best:  20 ------\n",
            "True Positives (tp): 6\n",
            "False Positives (fp): 12\n",
            "False Negatives (fn): 11\n",
            "precision:  0.3333333333333333\n",
            "recall:  0.35294117647058826\n",
            "accuracy:  0.6290322580645161 f1 score:  0.34285714285714286\n",
            "\n"
          ]
        },
        {
          "name": "stderr",
          "output_type": "stream",
          "text": [
            "d:\\Documents-D\\Projects\\EEG\\logisticRegression.py:4: RuntimeWarning: overflow encountered in exp\n",
            "  return 1.0 / (1.0 + np.exp(-z))\n"
          ]
        },
        {
          "name": "stdout",
          "output_type": "stream",
          "text": [
            "k.best:  25 ------\n",
            "True Positives (tp): 14\n",
            "False Positives (fp): 20\n",
            "False Negatives (fn): 3\n",
            "precision:  0.4117647058823529\n",
            "recall:  0.8235294117647058\n",
            "accuracy:  0.6290322580645161 f1 score:  0.5490196078431372\n",
            "\n"
          ]
        },
        {
          "name": "stderr",
          "output_type": "stream",
          "text": [
            "d:\\Documents-D\\Projects\\EEG\\logisticRegression.py:4: RuntimeWarning: overflow encountered in exp\n",
            "  return 1.0 / (1.0 + np.exp(-z))\n",
            "C:\\Users\\Windows 11\\AppData\\Local\\Temp\\ipykernel_7580\\1298042984.py:14: RuntimeWarning: invalid value encountered in scalar divide\n",
            "  precision = tp / (tp + fp)\n"
          ]
        },
        {
          "name": "stdout",
          "output_type": "stream",
          "text": [
            "k.best:  35 ------\n",
            "True Positives (tp): 0\n",
            "False Positives (fp): 0\n",
            "False Negatives (fn): 17\n",
            "precision:  nan\n",
            "recall:  0.0\n",
            "accuracy:  0.7258064516129032 f1 score:  nan\n",
            "\n"
          ]
        },
        {
          "name": "stderr",
          "output_type": "stream",
          "text": [
            "d:\\Documents-D\\Projects\\EEG\\logisticRegression.py:4: RuntimeWarning: overflow encountered in exp\n",
            "  return 1.0 / (1.0 + np.exp(-z))\n"
          ]
        },
        {
          "name": "stdout",
          "output_type": "stream",
          "text": [
            "k.best:  40 ------\n",
            "True Positives (tp): 8\n",
            "False Positives (fp): 16\n",
            "False Negatives (fn): 9\n",
            "precision:  0.3333333333333333\n",
            "recall:  0.47058823529411764\n",
            "accuracy:  0.5967741935483871 f1 score:  0.39024390243902435\n",
            "\n"
          ]
        },
        {
          "name": "stderr",
          "output_type": "stream",
          "text": [
            "d:\\Documents-D\\Projects\\EEG\\logisticRegression.py:4: RuntimeWarning: overflow encountered in exp\n",
            "  return 1.0 / (1.0 + np.exp(-z))\n"
          ]
        },
        {
          "name": "stdout",
          "output_type": "stream",
          "text": [
            "k.best:  50 ------\n",
            "True Positives (tp): 13\n",
            "False Positives (fp): 18\n",
            "False Negatives (fn): 4\n",
            "precision:  0.41935483870967744\n",
            "recall:  0.7647058823529411\n",
            "accuracy:  0.6451612903225806 f1 score:  0.5416666666666666\n",
            "\n"
          ]
        },
        {
          "name": "stderr",
          "output_type": "stream",
          "text": [
            "d:\\Documents-D\\Projects\\EEG\\logisticRegression.py:4: RuntimeWarning: overflow encountered in exp\n",
            "  return 1.0 / (1.0 + np.exp(-z))\n"
          ]
        },
        {
          "name": "stdout",
          "output_type": "stream",
          "text": [
            "k.best:  55 ------\n",
            "True Positives (tp): 7\n",
            "False Positives (fp): 17\n",
            "False Negatives (fn): 10\n",
            "precision:  0.2916666666666667\n",
            "recall:  0.4117647058823529\n",
            "accuracy:  0.5645161290322581 f1 score:  0.34146341463414637\n",
            "\n"
          ]
        },
        {
          "name": "stderr",
          "output_type": "stream",
          "text": [
            "d:\\Documents-D\\Projects\\EEG\\logisticRegression.py:4: RuntimeWarning: overflow encountered in exp\n",
            "  return 1.0 / (1.0 + np.exp(-z))\n"
          ]
        },
        {
          "name": "stdout",
          "output_type": "stream",
          "text": [
            "k.best:  70 ------\n",
            "True Positives (tp): 6\n",
            "False Positives (fp): 10\n",
            "False Negatives (fn): 11\n",
            "precision:  0.375\n",
            "recall:  0.35294117647058826\n",
            "accuracy:  0.6612903225806451 f1 score:  0.3636363636363636\n",
            "\n"
          ]
        },
        {
          "name": "stderr",
          "output_type": "stream",
          "text": [
            "d:\\Documents-D\\Projects\\EEG\\logisticRegression.py:4: RuntimeWarning: overflow encountered in exp\n",
            "  return 1.0 / (1.0 + np.exp(-z))\n"
          ]
        },
        {
          "name": "stdout",
          "output_type": "stream",
          "text": [
            "k.best:  100 ------\n",
            "True Positives (tp): 6\n",
            "False Positives (fp): 13\n",
            "False Negatives (fn): 11\n",
            "precision:  0.3157894736842105\n",
            "recall:  0.35294117647058826\n",
            "accuracy:  0.6129032258064516 f1 score:  0.33333333333333337\n",
            "\n"
          ]
        },
        {
          "name": "stderr",
          "output_type": "stream",
          "text": [
            "d:\\Documents-D\\Projects\\EEG\\logisticRegression.py:4: RuntimeWarning: overflow encountered in exp\n",
            "  return 1.0 / (1.0 + np.exp(-z))\n"
          ]
        },
        {
          "name": "stdout",
          "output_type": "stream",
          "text": [
            "k.best:  120 ------\n",
            "True Positives (tp): 3\n",
            "False Positives (fp): 4\n",
            "False Negatives (fn): 14\n",
            "precision:  0.42857142857142855\n",
            "recall:  0.17647058823529413\n",
            "accuracy:  0.7096774193548387 f1 score:  0.25\n",
            "\n",
            "k.best:  150 ------\n",
            "True Positives (tp): 1\n",
            "False Positives (fp): 0\n",
            "False Negatives (fn): 16\n",
            "precision:  1.0\n",
            "recall:  0.058823529411764705\n",
            "accuracy:  0.7419354838709677 f1 score:  0.1111111111111111\n",
            "\n"
          ]
        },
        {
          "name": "stderr",
          "output_type": "stream",
          "text": [
            "d:\\Documents-D\\Projects\\EEG\\logisticRegression.py:4: RuntimeWarning: overflow encountered in exp\n",
            "  return 1.0 / (1.0 + np.exp(-z))\n"
          ]
        }
      ],
      "source": [
        "kbest = [ 15, 20, 25, 35, 40, 50, 55, 70, 100, 120, 150]    # k mejores features\n",
        "lrates = [0.005, 0.01, 0.05]                                # learning rates\n",
        "\n",
        "def test_regression(kbest, lrates):\n",
        "    d = {}\n",
        "    for lrate in lrates:\n",
        "        accuracies = []\n",
        "        f1_scores = []\n",
        "        print(\"- - - - - - - - LEARNING RATE: \", lrate, \"- - - - - - - - - - -\")\n",
        "        for k in kbest:\n",
        "            selector = SelectKBest(chi2,k=k)\n",
        "            X_train_new = selector.fit_transform(x_train1_transformed, y_train1.reshape(y_train1.shape[0],))\n",
        "            X_test_new = selector.transform(x_train2_transformed)\n",
        "            X_test_new = X_test_new.toarray().astype(float)\n",
        "            X_train_new = X_train_new.toarray()\n",
        " \n",
        "            lr = LogisticRegression(n_iter=250, d=k, threshold=0.6, learning_rate=lrate)\n",
        "            lr.fit(X_train_new, y_train1)\n",
        "\n",
        "            print(\"k.best: \", k, '------')\n",
        "            y_pred = lr.predict(X_test_new)\n",
        "            acc = accuracy(y_train2, y_pred)\n",
        "            f1_ = f1_score(y_train2, y_pred)\n",
        "            print(\"accuracy: \", acc, \"f1 score: \", f1_)\n",
        "            accuracies.append(acc)\n",
        "            f1_scores.append(f1_)\n",
        "            print()\n",
        "            del lr\n",
        "        d[lrate] = (accuracies, f1_scores)\n",
        "\n",
        "    \n",
        "measures = test_regression(kbest=kbest, lrates=lrates)"
      ]
    },
    {
      "cell_type": "markdown",
      "metadata": {
        "id": "Y5jRKmLPyVVt"
      },
      "source": [
        "# **Tune knn hyperparameters**"
      ]
    },
    {
      "cell_type": "code",
      "execution_count": 6,
      "metadata": {
        "id": "OcRjVO4KyaVx"
      },
      "outputs": [
        {
          "name": "stdout",
          "output_type": "stream",
          "text": [
            "(142, 5)\n",
            "k:  3 kBEST: 5  ------------------------------\n",
            "True Positives (tp): 6\n",
            "False Positives (fp): 10\n",
            "False Negatives (fn): 11\n",
            "precision:  0.375\n",
            "recall:  0.35294117647058826\n",
            "accuracy:  0.6612903225806451 f1 score:  0.3636363636363636\n",
            "\n",
            "k:  5 kBEST: 5  ------------------------------\n",
            "True Positives (tp): 4\n",
            "False Positives (fp): 5\n",
            "False Negatives (fn): 13\n",
            "precision:  0.4444444444444444\n",
            "recall:  0.23529411764705882\n",
            "accuracy:  0.7096774193548387 f1 score:  0.30769230769230765\n",
            "\n",
            "k:  10 kBEST: 5  ------------------------------\n",
            "True Positives (tp): 2\n",
            "False Positives (fp): 2\n",
            "False Negatives (fn): 15\n",
            "precision:  0.5\n",
            "recall:  0.11764705882352941\n",
            "accuracy:  0.7258064516129032 f1 score:  0.19047619047619047\n",
            "\n",
            "k:  20 kBEST: 5  ------------------------------\n",
            "True Positives (tp): 2\n",
            "False Positives (fp): 2\n",
            "False Negatives (fn): 15\n",
            "precision:  0.5\n",
            "recall:  0.11764705882352941\n",
            "accuracy:  0.7258064516129032 f1 score:  0.19047619047619047\n",
            "\n",
            "k:  30 kBEST: 5  ------------------------------\n",
            "True Positives (tp): 0\n",
            "False Positives (fp): 0\n",
            "False Negatives (fn): 17\n",
            "precision:  nan\n",
            "recall:  0.0\n",
            "accuracy:  0.7258064516129032 f1 score:  nan\n",
            "\n",
            "k:  40 kBEST: 5  ------------------------------\n",
            "True Positives (tp): 0\n",
            "False Positives (fp): 0\n",
            "False Negatives (fn): 17\n",
            "precision:  nan\n",
            "recall:  0.0\n",
            "accuracy:  0.7258064516129032 f1 score:  nan\n",
            "\n",
            "k:  50 kBEST: 5  ------------------------------\n",
            "True Positives (tp): 0\n",
            "False Positives (fp): 0\n",
            "False Negatives (fn): 17\n",
            "precision:  nan\n",
            "recall:  0.0\n",
            "accuracy:  0.7258064516129032 f1 score:  nan\n",
            "\n",
            "k:  60 kBEST: 5  ------------------------------\n",
            "True Positives (tp): 0\n",
            "False Positives (fp): 0\n",
            "False Negatives (fn): 17\n",
            "precision:  nan\n",
            "recall:  0.0\n",
            "accuracy:  0.7258064516129032 f1 score:  nan\n",
            "\n"
          ]
        },
        {
          "name": "stderr",
          "output_type": "stream",
          "text": [
            "C:\\Users\\Windows 11\\AppData\\Local\\Temp\\ipykernel_10720\\1298042984.py:14: RuntimeWarning: invalid value encountered in scalar divide\n",
            "  precision = tp / (tp + fp)\n"
          ]
        },
        {
          "name": "stdout",
          "output_type": "stream",
          "text": [
            "(142, 10)\n",
            "k:  3 kBEST: 10  ------------------------------\n",
            "True Positives (tp): 4\n",
            "False Positives (fp): 3\n",
            "False Negatives (fn): 13\n",
            "precision:  0.5714285714285714\n",
            "recall:  0.23529411764705882\n",
            "accuracy:  0.7419354838709677 f1 score:  0.3333333333333333\n",
            "\n",
            "k:  5 kBEST: 10  ------------------------------\n",
            "True Positives (tp): 4\n",
            "False Positives (fp): 2\n",
            "False Negatives (fn): 13\n",
            "precision:  0.6666666666666666\n",
            "recall:  0.23529411764705882\n",
            "accuracy:  0.7580645161290323 f1 score:  0.3478260869565218\n",
            "\n",
            "k:  10 kBEST: 10  ------------------------------\n",
            "True Positives (tp): 2\n",
            "False Positives (fp): 2\n",
            "False Negatives (fn): 15\n",
            "precision:  0.5\n",
            "recall:  0.11764705882352941\n",
            "accuracy:  0.7258064516129032 f1 score:  0.19047619047619047\n",
            "\n",
            "k:  20 kBEST: 10  ------------------------------\n",
            "True Positives (tp): 0\n",
            "False Positives (fp): 0\n",
            "False Negatives (fn): 17\n",
            "precision:  nan\n",
            "recall:  0.0\n",
            "accuracy:  0.7258064516129032 f1 score:  nan\n",
            "\n",
            "k:  30 kBEST: 10  ------------------------------\n",
            "True Positives (tp): 0\n",
            "False Positives (fp): 0\n",
            "False Negatives (fn): 17\n",
            "precision:  nan\n",
            "recall:  0.0\n",
            "accuracy:  0.7258064516129032 f1 score:  nan\n",
            "\n",
            "k:  40 kBEST: 10  ------------------------------\n",
            "True Positives (tp): 0\n",
            "False Positives (fp): 0\n",
            "False Negatives (fn): 17\n",
            "precision:  nan\n",
            "recall:  0.0\n",
            "accuracy:  0.7258064516129032 f1 score:  nan\n",
            "\n",
            "k:  50 kBEST: 10  ------------------------------\n",
            "True Positives (tp): 0\n",
            "False Positives (fp): 0\n",
            "False Negatives (fn): 17\n",
            "precision:  nan\n",
            "recall:  0.0\n",
            "accuracy:  0.7258064516129032 f1 score:  nan\n",
            "\n",
            "k:  60 kBEST: 10  ------------------------------\n",
            "True Positives (tp): 0\n",
            "False Positives (fp): 0\n",
            "False Negatives (fn): 17\n",
            "precision:  nan\n",
            "recall:  0.0\n",
            "accuracy:  0.7258064516129032 f1 score:  nan\n",
            "\n"
          ]
        },
        {
          "name": "stderr",
          "output_type": "stream",
          "text": [
            "C:\\Users\\Windows 11\\AppData\\Local\\Temp\\ipykernel_10720\\1298042984.py:14: RuntimeWarning: invalid value encountered in scalar divide\n",
            "  precision = tp / (tp + fp)\n"
          ]
        },
        {
          "name": "stdout",
          "output_type": "stream",
          "text": [
            "(142, 15)\n",
            "k:  3 kBEST: 15  ------------------------------\n",
            "True Positives (tp): 3\n",
            "False Positives (fp): 3\n",
            "False Negatives (fn): 14\n",
            "precision:  0.5\n",
            "recall:  0.17647058823529413\n",
            "accuracy:  0.7258064516129032 f1 score:  0.2608695652173913\n",
            "\n",
            "k:  5 kBEST: 15  ------------------------------\n",
            "True Positives (tp): 4\n",
            "False Positives (fp): 5\n",
            "False Negatives (fn): 13\n",
            "precision:  0.4444444444444444\n",
            "recall:  0.23529411764705882\n",
            "accuracy:  0.7096774193548387 f1 score:  0.30769230769230765\n",
            "\n",
            "k:  10 kBEST: 15  ------------------------------\n",
            "True Positives (tp): 2\n",
            "False Positives (fp): 2\n",
            "False Negatives (fn): 15\n",
            "precision:  0.5\n",
            "recall:  0.11764705882352941\n",
            "accuracy:  0.7258064516129032 f1 score:  0.19047619047619047\n",
            "\n",
            "k:  20 kBEST: 15  ------------------------------\n",
            "True Positives (tp): 0\n",
            "False Positives (fp): 0\n",
            "False Negatives (fn): 17\n",
            "precision:  nan\n",
            "recall:  0.0\n",
            "accuracy:  0.7258064516129032 f1 score:  nan\n",
            "\n",
            "k:  30 kBEST: 15  ------------------------------\n",
            "True Positives (tp): 0\n",
            "False Positives (fp): 0\n",
            "False Negatives (fn): 17\n",
            "precision:  nan\n",
            "recall:  0.0\n",
            "accuracy:  0.7258064516129032 f1 score:  nan\n",
            "\n",
            "k:  40 kBEST: 15  ------------------------------\n",
            "True Positives (tp): 0\n",
            "False Positives (fp): 0\n",
            "False Negatives (fn): 17\n",
            "precision:  nan\n",
            "recall:  0.0\n",
            "accuracy:  0.7258064516129032 f1 score:  nan\n",
            "\n",
            "k:  50 kBEST: 15  ------------------------------\n",
            "True Positives (tp): 0\n",
            "False Positives (fp): 0\n",
            "False Negatives (fn): 17\n",
            "precision:  nan\n",
            "recall:  0.0\n",
            "accuracy:  0.7258064516129032 f1 score:  nan\n",
            "\n",
            "k:  60 kBEST: 15  ------------------------------\n",
            "True Positives (tp): 0\n",
            "False Positives (fp): 0\n",
            "False Negatives (fn): 17\n",
            "precision:  nan\n",
            "recall:  0.0\n",
            "accuracy:  0.7258064516129032 f1 score:  nan\n",
            "\n"
          ]
        },
        {
          "name": "stderr",
          "output_type": "stream",
          "text": [
            "C:\\Users\\Windows 11\\AppData\\Local\\Temp\\ipykernel_10720\\1298042984.py:14: RuntimeWarning: invalid value encountered in scalar divide\n",
            "  precision = tp / (tp + fp)\n"
          ]
        },
        {
          "name": "stdout",
          "output_type": "stream",
          "text": [
            "(142, 18)\n",
            "k:  3 kBEST: 18  ------------------------------\n",
            "True Positives (tp): 3\n",
            "False Positives (fp): 5\n",
            "False Negatives (fn): 14\n",
            "precision:  0.375\n",
            "recall:  0.17647058823529413\n",
            "accuracy:  0.6935483870967742 f1 score:  0.24\n",
            "\n",
            "k:  5 kBEST: 18  ------------------------------\n",
            "True Positives (tp): 4\n",
            "False Positives (fp): 3\n",
            "False Negatives (fn): 13\n",
            "precision:  0.5714285714285714\n",
            "recall:  0.23529411764705882\n",
            "accuracy:  0.7419354838709677 f1 score:  0.3333333333333333\n",
            "\n",
            "k:  10 kBEST: 18  ------------------------------\n",
            "True Positives (tp): 2\n",
            "False Positives (fp): 1\n",
            "False Negatives (fn): 15\n",
            "precision:  0.6666666666666666\n",
            "recall:  0.11764705882352941\n",
            "accuracy:  0.7419354838709677 f1 score:  0.2\n",
            "\n",
            "k:  20 kBEST: 18  ------------------------------\n",
            "True Positives (tp): 0\n",
            "False Positives (fp): 0\n",
            "False Negatives (fn): 17\n",
            "precision:  nan\n",
            "recall:  0.0\n",
            "accuracy:  0.7258064516129032 f1 score:  nan\n",
            "\n",
            "k:  30 kBEST: 18  ------------------------------\n",
            "True Positives (tp): 0\n",
            "False Positives (fp): 0\n",
            "False Negatives (fn): 17\n",
            "precision:  nan\n",
            "recall:  0.0\n",
            "accuracy:  0.7258064516129032 f1 score:  nan\n",
            "\n",
            "k:  40 kBEST: 18  ------------------------------\n",
            "True Positives (tp): 0\n",
            "False Positives (fp): 0\n",
            "False Negatives (fn): 17\n",
            "precision:  nan\n",
            "recall:  0.0\n",
            "accuracy:  0.7258064516129032 f1 score:  nan\n",
            "\n",
            "k:  50 kBEST: 18  ------------------------------\n",
            "True Positives (tp): 0\n",
            "False Positives (fp): 0\n",
            "False Negatives (fn): 17\n",
            "precision:  nan\n",
            "recall:  0.0\n",
            "accuracy:  0.7258064516129032 f1 score:  nan\n",
            "\n",
            "k:  60 kBEST: 18  ------------------------------\n",
            "True Positives (tp): 0\n",
            "False Positives (fp): 0\n",
            "False Negatives (fn): 17\n",
            "precision:  nan\n",
            "recall:  0.0\n",
            "accuracy:  0.7258064516129032 f1 score:  nan\n",
            "\n"
          ]
        },
        {
          "name": "stderr",
          "output_type": "stream",
          "text": [
            "C:\\Users\\Windows 11\\AppData\\Local\\Temp\\ipykernel_10720\\1298042984.py:14: RuntimeWarning: invalid value encountered in scalar divide\n",
            "  precision = tp / (tp + fp)\n"
          ]
        },
        {
          "name": "stdout",
          "output_type": "stream",
          "text": [
            "(142, 20)\n",
            "k:  3 kBEST: 20  ------------------------------\n",
            "True Positives (tp): 3\n",
            "False Positives (fp): 5\n",
            "False Negatives (fn): 14\n",
            "precision:  0.375\n",
            "recall:  0.17647058823529413\n",
            "accuracy:  0.6935483870967742 f1 score:  0.24\n",
            "\n",
            "k:  5 kBEST: 20  ------------------------------\n",
            "True Positives (tp): 2\n",
            "False Positives (fp): 4\n",
            "False Negatives (fn): 15\n",
            "precision:  0.3333333333333333\n",
            "recall:  0.11764705882352941\n",
            "accuracy:  0.6935483870967742 f1 score:  0.1739130434782609\n",
            "\n",
            "k:  10 kBEST: 20  ------------------------------\n",
            "True Positives (tp): 1\n",
            "False Positives (fp): 2\n",
            "False Negatives (fn): 16\n",
            "precision:  0.3333333333333333\n",
            "recall:  0.058823529411764705\n",
            "accuracy:  0.7096774193548387 f1 score:  0.1\n",
            "\n",
            "k:  20 kBEST: 20  ------------------------------\n",
            "True Positives (tp): 0\n",
            "False Positives (fp): 1\n",
            "False Negatives (fn): 17\n",
            "precision:  0.0\n",
            "recall:  0.0\n",
            "accuracy:  0.7096774193548387 f1 score:  nan\n",
            "\n",
            "k:  30 kBEST: 20  ------------------------------\n",
            "True Positives (tp): 0\n",
            "False Positives (fp): 0\n",
            "False Negatives (fn): 17\n",
            "precision:  nan\n",
            "recall:  0.0\n",
            "accuracy:  0.7258064516129032 f1 score:  nan\n",
            "\n",
            "k:  40 kBEST: 20  ------------------------------\n",
            "True Positives (tp): 0\n",
            "False Positives (fp): 0\n",
            "False Negatives (fn): 17\n",
            "precision:  nan\n",
            "recall:  0.0\n",
            "accuracy:  0.7258064516129032 f1 score:  nan\n",
            "\n",
            "k:  50 kBEST: 20  ------------------------------\n",
            "True Positives (tp): 0\n",
            "False Positives (fp): 0\n",
            "False Negatives (fn): 17\n",
            "precision:  nan\n",
            "recall:  0.0\n",
            "accuracy:  0.7258064516129032 f1 score:  nan\n",
            "\n",
            "k:  60 kBEST: 20  ------------------------------\n",
            "True Positives (tp): 0\n",
            "False Positives (fp): 0\n",
            "False Negatives (fn): 17\n",
            "precision:  nan\n",
            "recall:  0.0\n",
            "accuracy:  0.7258064516129032 f1 score:  nan\n",
            "\n"
          ]
        },
        {
          "name": "stderr",
          "output_type": "stream",
          "text": [
            "C:\\Users\\Windows 11\\AppData\\Local\\Temp\\ipykernel_10720\\1298042984.py:20: RuntimeWarning: invalid value encountered in scalar divide\n",
            "  return 2 * precision * recall / (precision + recall)\n",
            "C:\\Users\\Windows 11\\AppData\\Local\\Temp\\ipykernel_10720\\1298042984.py:14: RuntimeWarning: invalid value encountered in scalar divide\n",
            "  precision = tp / (tp + fp)\n"
          ]
        },
        {
          "name": "stdout",
          "output_type": "stream",
          "text": [
            "(142, 25)\n",
            "k:  3 kBEST: 25  ------------------------------\n",
            "True Positives (tp): 3\n",
            "False Positives (fp): 7\n",
            "False Negatives (fn): 14\n",
            "precision:  0.3\n",
            "recall:  0.17647058823529413\n",
            "accuracy:  0.6612903225806451 f1 score:  0.22222222222222224\n",
            "\n",
            "k:  5 kBEST: 25  ------------------------------\n",
            "True Positives (tp): 3\n",
            "False Positives (fp): 4\n",
            "False Negatives (fn): 14\n",
            "precision:  0.42857142857142855\n",
            "recall:  0.17647058823529413\n",
            "accuracy:  0.7096774193548387 f1 score:  0.25\n",
            "\n",
            "k:  10 kBEST: 25  ------------------------------\n",
            "True Positives (tp): 2\n",
            "False Positives (fp): 3\n",
            "False Negatives (fn): 15\n",
            "precision:  0.4\n",
            "recall:  0.11764705882352941\n",
            "accuracy:  0.7096774193548387 f1 score:  0.1818181818181818\n",
            "\n",
            "k:  20 kBEST: 25  ------------------------------\n",
            "True Positives (tp): 0\n",
            "False Positives (fp): 1\n",
            "False Negatives (fn): 17\n",
            "precision:  0.0\n",
            "recall:  0.0\n",
            "accuracy:  0.7096774193548387 f1 score:  nan\n",
            "\n",
            "k:  30 kBEST: 25  ------------------------------\n",
            "True Positives (tp): 0\n",
            "False Positives (fp): 0\n",
            "False Negatives (fn): 17\n",
            "precision:  nan\n",
            "recall:  0.0\n",
            "accuracy:  0.7258064516129032 f1 score:  nan\n",
            "\n",
            "k:  40 kBEST: 25  ------------------------------\n",
            "True Positives (tp): 0\n",
            "False Positives (fp): 0\n",
            "False Negatives (fn): 17\n",
            "precision:  nan\n",
            "recall:  0.0\n",
            "accuracy:  0.7258064516129032 f1 score:  nan\n",
            "\n",
            "k:  50 kBEST: 25  ------------------------------\n",
            "True Positives (tp): 0\n",
            "False Positives (fp): 0\n",
            "False Negatives (fn): 17\n",
            "precision:  nan\n",
            "recall:  0.0\n",
            "accuracy:  0.7258064516129032 f1 score:  nan\n",
            "\n",
            "k:  60 kBEST: 25  ------------------------------\n",
            "True Positives (tp): 0\n",
            "False Positives (fp): 0\n",
            "False Negatives (fn): 17\n",
            "precision:  nan\n",
            "recall:  0.0\n",
            "accuracy:  0.7258064516129032 f1 score:  nan\n",
            "\n"
          ]
        },
        {
          "name": "stderr",
          "output_type": "stream",
          "text": [
            "C:\\Users\\Windows 11\\AppData\\Local\\Temp\\ipykernel_10720\\1298042984.py:20: RuntimeWarning: invalid value encountered in scalar divide\n",
            "  return 2 * precision * recall / (precision + recall)\n",
            "C:\\Users\\Windows 11\\AppData\\Local\\Temp\\ipykernel_10720\\1298042984.py:14: RuntimeWarning: invalid value encountered in scalar divide\n",
            "  precision = tp / (tp + fp)\n"
          ]
        },
        {
          "name": "stdout",
          "output_type": "stream",
          "text": [
            "(142, 30)\n",
            "k:  3 kBEST: 30  ------------------------------\n",
            "True Positives (tp): 3\n",
            "False Positives (fp): 8\n",
            "False Negatives (fn): 14\n",
            "precision:  0.2727272727272727\n",
            "recall:  0.17647058823529413\n",
            "accuracy:  0.6451612903225806 f1 score:  0.21428571428571427\n",
            "\n",
            "k:  5 kBEST: 30  ------------------------------\n",
            "True Positives (tp): 3\n",
            "False Positives (fp): 7\n",
            "False Negatives (fn): 14\n",
            "precision:  0.3\n",
            "recall:  0.17647058823529413\n",
            "accuracy:  0.6612903225806451 f1 score:  0.22222222222222224\n",
            "\n",
            "k:  10 kBEST: 30  ------------------------------\n",
            "True Positives (tp): 4\n",
            "False Positives (fp): 2\n",
            "False Negatives (fn): 13\n",
            "precision:  0.6666666666666666\n",
            "recall:  0.23529411764705882\n",
            "accuracy:  0.7580645161290323 f1 score:  0.3478260869565218\n",
            "\n",
            "k:  20 kBEST: 30  ------------------------------\n",
            "True Positives (tp): 0\n",
            "False Positives (fp): 2\n",
            "False Negatives (fn): 17\n",
            "precision:  0.0\n",
            "recall:  0.0\n",
            "accuracy:  0.6935483870967742 f1 score:  nan\n",
            "\n",
            "k:  30 kBEST: 30  ------------------------------\n",
            "True Positives (tp): 0\n",
            "False Positives (fp): 0\n",
            "False Negatives (fn): 17\n",
            "precision:  nan\n",
            "recall:  0.0\n",
            "accuracy:  0.7258064516129032 f1 score:  nan\n",
            "\n",
            "k:  40 kBEST: 30  ------------------------------\n",
            "True Positives (tp): 0\n",
            "False Positives (fp): 0\n",
            "False Negatives (fn): 17\n",
            "precision:  nan\n",
            "recall:  0.0\n",
            "accuracy:  0.7258064516129032 f1 score:  nan\n",
            "\n",
            "k:  50 kBEST: 30  ------------------------------\n",
            "True Positives (tp): 0\n",
            "False Positives (fp): 0\n",
            "False Negatives (fn): 17\n",
            "precision:  nan\n",
            "recall:  0.0\n",
            "accuracy:  0.7258064516129032 f1 score:  nan\n",
            "\n",
            "k:  60 kBEST: 30  ------------------------------\n",
            "True Positives (tp): 0\n",
            "False Positives (fp): 0\n",
            "False Negatives (fn): 17\n",
            "precision:  nan\n",
            "recall:  0.0\n",
            "accuracy:  0.7258064516129032 f1 score:  nan\n",
            "\n"
          ]
        },
        {
          "name": "stderr",
          "output_type": "stream",
          "text": [
            "C:\\Users\\Windows 11\\AppData\\Local\\Temp\\ipykernel_10720\\1298042984.py:20: RuntimeWarning: invalid value encountered in scalar divide\n",
            "  return 2 * precision * recall / (precision + recall)\n",
            "C:\\Users\\Windows 11\\AppData\\Local\\Temp\\ipykernel_10720\\1298042984.py:14: RuntimeWarning: invalid value encountered in scalar divide\n",
            "  precision = tp / (tp + fp)\n"
          ]
        }
      ],
      "source": [
        "ks = [3, 5, 10, 20, 30, 40, 50, 60] # k de knn\n",
        "kbest = [5, 10, 15, 18, 20, 25, 30] # k mejores features\n",
        "\n",
        "def test_hyperparameters(ks, kbest):\n",
        "  d = {}\n",
        "  for k_best in kbest:\n",
        "    # select k_best best attributes\n",
        "    selector = SelectKBest(chi2, k=k_best)\n",
        "    X_train_new = selector.fit_transform(x_train1_transformed, y_train1.reshape(y_train1.shape[0],))\n",
        "    X_test_new = selector.transform(x_train2_transformed)\n",
        "    X_test_new = X_test_new.toarray().astype(float)\n",
        "    X_train_new = X_train_new.toarray().astype(float)\n",
        "    print(X_train_new.shape)\n",
        "    # create r-tree index of dimension k_best\n",
        "    knn = kNNClassifier(d=k_best)\n",
        "    knn.insert_data(X_train_new, y_train1)\n",
        "\n",
        "    accuracies = []\n",
        "    f1_scores = []\n",
        "\n",
        "    # predict based on knn\n",
        "    for k in ks:\n",
        "      print(\"k: \", k, \"kBEST:\", k_best, \" ------------------------------\")\n",
        "      y_pred = knn.predict(X=X_test_new, k=k).reshape(X_test_new.shape[0],1)\n",
        "      acc = accuracy(y_train2, y_pred)\n",
        "      f1_ = f1_score(y_train2, y_pred)\n",
        "      print(\"accuracy: \", acc, \"f1 score: \", f1_)\n",
        "      accuracies.append(acc)\n",
        "      f1_scores.append(f1_)\n",
        "      print()\n",
        "\n",
        "    d[k_best] = (accuracies, f1_scores)\n",
        "    del knn\n",
        "\n",
        "  return d\n",
        "\n",
        "def plot_performance(tup):\n",
        "  accuracies = tup[0]\n",
        "  f1_scores = tup[1]\n",
        "  plt.plot(ks, accuracies, label='accuracy')\n",
        "  plt.plot(ks, f1_scores, label='f1 score')\n",
        "\n",
        "measures = test_hyperparameters(ks=ks, kbest=kbest)\n"
      ]
    },
    {
      "cell_type": "markdown",
      "metadata": {},
      "source": [
        "# **Comparación con Scikit**"
      ]
    },
    {
      "cell_type": "code",
      "execution_count": 7,
      "metadata": {},
      "outputs": [],
      "source": [
        "from sklearn.neighbors import KNeighborsClassifier"
      ]
    },
    {
      "cell_type": "code",
      "execution_count": 8,
      "metadata": {},
      "outputs": [],
      "source": [
        "selector = SelectKBest(chi2, k=25)\n",
        "X_train_new = selector.fit_transform(x_train1_transformed, y_train1.reshape(y_train1.shape[0],)).astype(float)\n",
        "X_test_new = selector.transform(x_train2_transformed).astype(float)\n",
        "X_test_new = X_test_new.toarray()\n",
        "X_train_new = X_train_new.toarray()"
      ]
    },
    {
      "cell_type": "code",
      "execution_count": 9,
      "metadata": {},
      "outputs": [
        {
          "data": {
            "text/html": [
              "<style>#sk-container-id-1 {\n",
              "  /* Definition of color scheme common for light and dark mode */\n",
              "  --sklearn-color-text: #000;\n",
              "  --sklearn-color-text-muted: #666;\n",
              "  --sklearn-color-line: gray;\n",
              "  /* Definition of color scheme for unfitted estimators */\n",
              "  --sklearn-color-unfitted-level-0: #fff5e6;\n",
              "  --sklearn-color-unfitted-level-1: #f6e4d2;\n",
              "  --sklearn-color-unfitted-level-2: #ffe0b3;\n",
              "  --sklearn-color-unfitted-level-3: chocolate;\n",
              "  /* Definition of color scheme for fitted estimators */\n",
              "  --sklearn-color-fitted-level-0: #f0f8ff;\n",
              "  --sklearn-color-fitted-level-1: #d4ebff;\n",
              "  --sklearn-color-fitted-level-2: #b3dbfd;\n",
              "  --sklearn-color-fitted-level-3: cornflowerblue;\n",
              "\n",
              "  /* Specific color for light theme */\n",
              "  --sklearn-color-text-on-default-background: var(--sg-text-color, var(--theme-code-foreground, var(--jp-content-font-color1, black)));\n",
              "  --sklearn-color-background: var(--sg-background-color, var(--theme-background, var(--jp-layout-color0, white)));\n",
              "  --sklearn-color-border-box: var(--sg-text-color, var(--theme-code-foreground, var(--jp-content-font-color1, black)));\n",
              "  --sklearn-color-icon: #696969;\n",
              "\n",
              "  @media (prefers-color-scheme: dark) {\n",
              "    /* Redefinition of color scheme for dark theme */\n",
              "    --sklearn-color-text-on-default-background: var(--sg-text-color, var(--theme-code-foreground, var(--jp-content-font-color1, white)));\n",
              "    --sklearn-color-background: var(--sg-background-color, var(--theme-background, var(--jp-layout-color0, #111)));\n",
              "    --sklearn-color-border-box: var(--sg-text-color, var(--theme-code-foreground, var(--jp-content-font-color1, white)));\n",
              "    --sklearn-color-icon: #878787;\n",
              "  }\n",
              "}\n",
              "\n",
              "#sk-container-id-1 {\n",
              "  color: var(--sklearn-color-text);\n",
              "}\n",
              "\n",
              "#sk-container-id-1 pre {\n",
              "  padding: 0;\n",
              "}\n",
              "\n",
              "#sk-container-id-1 input.sk-hidden--visually {\n",
              "  border: 0;\n",
              "  clip: rect(1px 1px 1px 1px);\n",
              "  clip: rect(1px, 1px, 1px, 1px);\n",
              "  height: 1px;\n",
              "  margin: -1px;\n",
              "  overflow: hidden;\n",
              "  padding: 0;\n",
              "  position: absolute;\n",
              "  width: 1px;\n",
              "}\n",
              "\n",
              "#sk-container-id-1 div.sk-dashed-wrapped {\n",
              "  border: 1px dashed var(--sklearn-color-line);\n",
              "  margin: 0 0.4em 0.5em 0.4em;\n",
              "  box-sizing: border-box;\n",
              "  padding-bottom: 0.4em;\n",
              "  background-color: var(--sklearn-color-background);\n",
              "}\n",
              "\n",
              "#sk-container-id-1 div.sk-container {\n",
              "  /* jupyter's `normalize.less` sets `[hidden] { display: none; }`\n",
              "     but bootstrap.min.css set `[hidden] { display: none !important; }`\n",
              "     so we also need the `!important` here to be able to override the\n",
              "     default hidden behavior on the sphinx rendered scikit-learn.org.\n",
              "     See: https://github.com/scikit-learn/scikit-learn/issues/21755 */\n",
              "  display: inline-block !important;\n",
              "  position: relative;\n",
              "}\n",
              "\n",
              "#sk-container-id-1 div.sk-text-repr-fallback {\n",
              "  display: none;\n",
              "}\n",
              "\n",
              "div.sk-parallel-item,\n",
              "div.sk-serial,\n",
              "div.sk-item {\n",
              "  /* draw centered vertical line to link estimators */\n",
              "  background-image: linear-gradient(var(--sklearn-color-text-on-default-background), var(--sklearn-color-text-on-default-background));\n",
              "  background-size: 2px 100%;\n",
              "  background-repeat: no-repeat;\n",
              "  background-position: center center;\n",
              "}\n",
              "\n",
              "/* Parallel-specific style estimator block */\n",
              "\n",
              "#sk-container-id-1 div.sk-parallel-item::after {\n",
              "  content: \"\";\n",
              "  width: 100%;\n",
              "  border-bottom: 2px solid var(--sklearn-color-text-on-default-background);\n",
              "  flex-grow: 1;\n",
              "}\n",
              "\n",
              "#sk-container-id-1 div.sk-parallel {\n",
              "  display: flex;\n",
              "  align-items: stretch;\n",
              "  justify-content: center;\n",
              "  background-color: var(--sklearn-color-background);\n",
              "  position: relative;\n",
              "}\n",
              "\n",
              "#sk-container-id-1 div.sk-parallel-item {\n",
              "  display: flex;\n",
              "  flex-direction: column;\n",
              "}\n",
              "\n",
              "#sk-container-id-1 div.sk-parallel-item:first-child::after {\n",
              "  align-self: flex-end;\n",
              "  width: 50%;\n",
              "}\n",
              "\n",
              "#sk-container-id-1 div.sk-parallel-item:last-child::after {\n",
              "  align-self: flex-start;\n",
              "  width: 50%;\n",
              "}\n",
              "\n",
              "#sk-container-id-1 div.sk-parallel-item:only-child::after {\n",
              "  width: 0;\n",
              "}\n",
              "\n",
              "/* Serial-specific style estimator block */\n",
              "\n",
              "#sk-container-id-1 div.sk-serial {\n",
              "  display: flex;\n",
              "  flex-direction: column;\n",
              "  align-items: center;\n",
              "  background-color: var(--sklearn-color-background);\n",
              "  padding-right: 1em;\n",
              "  padding-left: 1em;\n",
              "}\n",
              "\n",
              "\n",
              "/* Toggleable style: style used for estimator/Pipeline/ColumnTransformer box that is\n",
              "clickable and can be expanded/collapsed.\n",
              "- Pipeline and ColumnTransformer use this feature and define the default style\n",
              "- Estimators will overwrite some part of the style using the `sk-estimator` class\n",
              "*/\n",
              "\n",
              "/* Pipeline and ColumnTransformer style (default) */\n",
              "\n",
              "#sk-container-id-1 div.sk-toggleable {\n",
              "  /* Default theme specific background. It is overwritten whether we have a\n",
              "  specific estimator or a Pipeline/ColumnTransformer */\n",
              "  background-color: var(--sklearn-color-background);\n",
              "}\n",
              "\n",
              "/* Toggleable label */\n",
              "#sk-container-id-1 label.sk-toggleable__label {\n",
              "  cursor: pointer;\n",
              "  display: flex;\n",
              "  width: 100%;\n",
              "  margin-bottom: 0;\n",
              "  padding: 0.5em;\n",
              "  box-sizing: border-box;\n",
              "  text-align: center;\n",
              "  align-items: start;\n",
              "  justify-content: space-between;\n",
              "  gap: 0.5em;\n",
              "}\n",
              "\n",
              "#sk-container-id-1 label.sk-toggleable__label .caption {\n",
              "  font-size: 0.6rem;\n",
              "  font-weight: lighter;\n",
              "  color: var(--sklearn-color-text-muted);\n",
              "}\n",
              "\n",
              "#sk-container-id-1 label.sk-toggleable__label-arrow:before {\n",
              "  /* Arrow on the left of the label */\n",
              "  content: \"▸\";\n",
              "  float: left;\n",
              "  margin-right: 0.25em;\n",
              "  color: var(--sklearn-color-icon);\n",
              "}\n",
              "\n",
              "#sk-container-id-1 label.sk-toggleable__label-arrow:hover:before {\n",
              "  color: var(--sklearn-color-text);\n",
              "}\n",
              "\n",
              "/* Toggleable content - dropdown */\n",
              "\n",
              "#sk-container-id-1 div.sk-toggleable__content {\n",
              "  max-height: 0;\n",
              "  max-width: 0;\n",
              "  overflow: hidden;\n",
              "  text-align: left;\n",
              "  /* unfitted */\n",
              "  background-color: var(--sklearn-color-unfitted-level-0);\n",
              "}\n",
              "\n",
              "#sk-container-id-1 div.sk-toggleable__content.fitted {\n",
              "  /* fitted */\n",
              "  background-color: var(--sklearn-color-fitted-level-0);\n",
              "}\n",
              "\n",
              "#sk-container-id-1 div.sk-toggleable__content pre {\n",
              "  margin: 0.2em;\n",
              "  border-radius: 0.25em;\n",
              "  color: var(--sklearn-color-text);\n",
              "  /* unfitted */\n",
              "  background-color: var(--sklearn-color-unfitted-level-0);\n",
              "}\n",
              "\n",
              "#sk-container-id-1 div.sk-toggleable__content.fitted pre {\n",
              "  /* unfitted */\n",
              "  background-color: var(--sklearn-color-fitted-level-0);\n",
              "}\n",
              "\n",
              "#sk-container-id-1 input.sk-toggleable__control:checked~div.sk-toggleable__content {\n",
              "  /* Expand drop-down */\n",
              "  max-height: 200px;\n",
              "  max-width: 100%;\n",
              "  overflow: auto;\n",
              "}\n",
              "\n",
              "#sk-container-id-1 input.sk-toggleable__control:checked~label.sk-toggleable__label-arrow:before {\n",
              "  content: \"▾\";\n",
              "}\n",
              "\n",
              "/* Pipeline/ColumnTransformer-specific style */\n",
              "\n",
              "#sk-container-id-1 div.sk-label input.sk-toggleable__control:checked~label.sk-toggleable__label {\n",
              "  color: var(--sklearn-color-text);\n",
              "  background-color: var(--sklearn-color-unfitted-level-2);\n",
              "}\n",
              "\n",
              "#sk-container-id-1 div.sk-label.fitted input.sk-toggleable__control:checked~label.sk-toggleable__label {\n",
              "  background-color: var(--sklearn-color-fitted-level-2);\n",
              "}\n",
              "\n",
              "/* Estimator-specific style */\n",
              "\n",
              "/* Colorize estimator box */\n",
              "#sk-container-id-1 div.sk-estimator input.sk-toggleable__control:checked~label.sk-toggleable__label {\n",
              "  /* unfitted */\n",
              "  background-color: var(--sklearn-color-unfitted-level-2);\n",
              "}\n",
              "\n",
              "#sk-container-id-1 div.sk-estimator.fitted input.sk-toggleable__control:checked~label.sk-toggleable__label {\n",
              "  /* fitted */\n",
              "  background-color: var(--sklearn-color-fitted-level-2);\n",
              "}\n",
              "\n",
              "#sk-container-id-1 div.sk-label label.sk-toggleable__label,\n",
              "#sk-container-id-1 div.sk-label label {\n",
              "  /* The background is the default theme color */\n",
              "  color: var(--sklearn-color-text-on-default-background);\n",
              "}\n",
              "\n",
              "/* On hover, darken the color of the background */\n",
              "#sk-container-id-1 div.sk-label:hover label.sk-toggleable__label {\n",
              "  color: var(--sklearn-color-text);\n",
              "  background-color: var(--sklearn-color-unfitted-level-2);\n",
              "}\n",
              "\n",
              "/* Label box, darken color on hover, fitted */\n",
              "#sk-container-id-1 div.sk-label.fitted:hover label.sk-toggleable__label.fitted {\n",
              "  color: var(--sklearn-color-text);\n",
              "  background-color: var(--sklearn-color-fitted-level-2);\n",
              "}\n",
              "\n",
              "/* Estimator label */\n",
              "\n",
              "#sk-container-id-1 div.sk-label label {\n",
              "  font-family: monospace;\n",
              "  font-weight: bold;\n",
              "  display: inline-block;\n",
              "  line-height: 1.2em;\n",
              "}\n",
              "\n",
              "#sk-container-id-1 div.sk-label-container {\n",
              "  text-align: center;\n",
              "}\n",
              "\n",
              "/* Estimator-specific */\n",
              "#sk-container-id-1 div.sk-estimator {\n",
              "  font-family: monospace;\n",
              "  border: 1px dotted var(--sklearn-color-border-box);\n",
              "  border-radius: 0.25em;\n",
              "  box-sizing: border-box;\n",
              "  margin-bottom: 0.5em;\n",
              "  /* unfitted */\n",
              "  background-color: var(--sklearn-color-unfitted-level-0);\n",
              "}\n",
              "\n",
              "#sk-container-id-1 div.sk-estimator.fitted {\n",
              "  /* fitted */\n",
              "  background-color: var(--sklearn-color-fitted-level-0);\n",
              "}\n",
              "\n",
              "/* on hover */\n",
              "#sk-container-id-1 div.sk-estimator:hover {\n",
              "  /* unfitted */\n",
              "  background-color: var(--sklearn-color-unfitted-level-2);\n",
              "}\n",
              "\n",
              "#sk-container-id-1 div.sk-estimator.fitted:hover {\n",
              "  /* fitted */\n",
              "  background-color: var(--sklearn-color-fitted-level-2);\n",
              "}\n",
              "\n",
              "/* Specification for estimator info (e.g. \"i\" and \"?\") */\n",
              "\n",
              "/* Common style for \"i\" and \"?\" */\n",
              "\n",
              ".sk-estimator-doc-link,\n",
              "a:link.sk-estimator-doc-link,\n",
              "a:visited.sk-estimator-doc-link {\n",
              "  float: right;\n",
              "  font-size: smaller;\n",
              "  line-height: 1em;\n",
              "  font-family: monospace;\n",
              "  background-color: var(--sklearn-color-background);\n",
              "  border-radius: 1em;\n",
              "  height: 1em;\n",
              "  width: 1em;\n",
              "  text-decoration: none !important;\n",
              "  margin-left: 0.5em;\n",
              "  text-align: center;\n",
              "  /* unfitted */\n",
              "  border: var(--sklearn-color-unfitted-level-1) 1pt solid;\n",
              "  color: var(--sklearn-color-unfitted-level-1);\n",
              "}\n",
              "\n",
              ".sk-estimator-doc-link.fitted,\n",
              "a:link.sk-estimator-doc-link.fitted,\n",
              "a:visited.sk-estimator-doc-link.fitted {\n",
              "  /* fitted */\n",
              "  border: var(--sklearn-color-fitted-level-1) 1pt solid;\n",
              "  color: var(--sklearn-color-fitted-level-1);\n",
              "}\n",
              "\n",
              "/* On hover */\n",
              "div.sk-estimator:hover .sk-estimator-doc-link:hover,\n",
              ".sk-estimator-doc-link:hover,\n",
              "div.sk-label-container:hover .sk-estimator-doc-link:hover,\n",
              ".sk-estimator-doc-link:hover {\n",
              "  /* unfitted */\n",
              "  background-color: var(--sklearn-color-unfitted-level-3);\n",
              "  color: var(--sklearn-color-background);\n",
              "  text-decoration: none;\n",
              "}\n",
              "\n",
              "div.sk-estimator.fitted:hover .sk-estimator-doc-link.fitted:hover,\n",
              ".sk-estimator-doc-link.fitted:hover,\n",
              "div.sk-label-container:hover .sk-estimator-doc-link.fitted:hover,\n",
              ".sk-estimator-doc-link.fitted:hover {\n",
              "  /* fitted */\n",
              "  background-color: var(--sklearn-color-fitted-level-3);\n",
              "  color: var(--sklearn-color-background);\n",
              "  text-decoration: none;\n",
              "}\n",
              "\n",
              "/* Span, style for the box shown on hovering the info icon */\n",
              ".sk-estimator-doc-link span {\n",
              "  display: none;\n",
              "  z-index: 9999;\n",
              "  position: relative;\n",
              "  font-weight: normal;\n",
              "  right: .2ex;\n",
              "  padding: .5ex;\n",
              "  margin: .5ex;\n",
              "  width: min-content;\n",
              "  min-width: 20ex;\n",
              "  max-width: 50ex;\n",
              "  color: var(--sklearn-color-text);\n",
              "  box-shadow: 2pt 2pt 4pt #999;\n",
              "  /* unfitted */\n",
              "  background: var(--sklearn-color-unfitted-level-0);\n",
              "  border: .5pt solid var(--sklearn-color-unfitted-level-3);\n",
              "}\n",
              "\n",
              ".sk-estimator-doc-link.fitted span {\n",
              "  /* fitted */\n",
              "  background: var(--sklearn-color-fitted-level-0);\n",
              "  border: var(--sklearn-color-fitted-level-3);\n",
              "}\n",
              "\n",
              ".sk-estimator-doc-link:hover span {\n",
              "  display: block;\n",
              "}\n",
              "\n",
              "/* \"?\"-specific style due to the `<a>` HTML tag */\n",
              "\n",
              "#sk-container-id-1 a.estimator_doc_link {\n",
              "  float: right;\n",
              "  font-size: 1rem;\n",
              "  line-height: 1em;\n",
              "  font-family: monospace;\n",
              "  background-color: var(--sklearn-color-background);\n",
              "  border-radius: 1rem;\n",
              "  height: 1rem;\n",
              "  width: 1rem;\n",
              "  text-decoration: none;\n",
              "  /* unfitted */\n",
              "  color: var(--sklearn-color-unfitted-level-1);\n",
              "  border: var(--sklearn-color-unfitted-level-1) 1pt solid;\n",
              "}\n",
              "\n",
              "#sk-container-id-1 a.estimator_doc_link.fitted {\n",
              "  /* fitted */\n",
              "  border: var(--sklearn-color-fitted-level-1) 1pt solid;\n",
              "  color: var(--sklearn-color-fitted-level-1);\n",
              "}\n",
              "\n",
              "/* On hover */\n",
              "#sk-container-id-1 a.estimator_doc_link:hover {\n",
              "  /* unfitted */\n",
              "  background-color: var(--sklearn-color-unfitted-level-3);\n",
              "  color: var(--sklearn-color-background);\n",
              "  text-decoration: none;\n",
              "}\n",
              "\n",
              "#sk-container-id-1 a.estimator_doc_link.fitted:hover {\n",
              "  /* fitted */\n",
              "  background-color: var(--sklearn-color-fitted-level-3);\n",
              "}\n",
              "</style><div id=\"sk-container-id-1\" class=\"sk-top-container\"><div class=\"sk-text-repr-fallback\"><pre>KNeighborsClassifier(n_neighbors=15)</pre><b>In a Jupyter environment, please rerun this cell to show the HTML representation or trust the notebook. <br />On GitHub, the HTML representation is unable to render, please try loading this page with nbviewer.org.</b></div><div class=\"sk-container\" hidden><div class=\"sk-item\"><div class=\"sk-estimator fitted sk-toggleable\"><input class=\"sk-toggleable__control sk-hidden--visually\" id=\"sk-estimator-id-1\" type=\"checkbox\" checked><label for=\"sk-estimator-id-1\" class=\"sk-toggleable__label fitted sk-toggleable__label-arrow\"><div><div>KNeighborsClassifier</div></div><div><a class=\"sk-estimator-doc-link fitted\" rel=\"noreferrer\" target=\"_blank\" href=\"https://scikit-learn.org/1.6/modules/generated/sklearn.neighbors.KNeighborsClassifier.html\">?<span>Documentation for KNeighborsClassifier</span></a><span class=\"sk-estimator-doc-link fitted\">i<span>Fitted</span></span></div></label><div class=\"sk-toggleable__content fitted\"><pre>KNeighborsClassifier(n_neighbors=15)</pre></div> </div></div></div></div>"
            ],
            "text/plain": [
              "KNeighborsClassifier(n_neighbors=15)"
            ]
          },
          "execution_count": 9,
          "metadata": {},
          "output_type": "execute_result"
        }
      ],
      "source": [
        "neigh = KNeighborsClassifier(n_neighbors=15)\n",
        "neigh.fit(X_train_new, y_train1.reshape(y_train1.shape[0],))"
      ]
    },
    {
      "cell_type": "code",
      "execution_count": 10,
      "metadata": {},
      "outputs": [],
      "source": [
        "y_pred  = neigh.predict(X_test_new)\n",
        "yt = y_train2.reshape(y_train2.shape[0],)"
      ]
    },
    {
      "cell_type": "code",
      "execution_count": 11,
      "metadata": {},
      "outputs": [
        {
          "data": {
            "text/plain": [
              "np.float64(0.23529411764705882)"
            ]
          },
          "execution_count": 11,
          "metadata": {},
          "output_type": "execute_result"
        }
      ],
      "source": [
        "np.sum((y_pred + yt) == 2) / np.sum(yt)"
      ]
    },
    {
      "cell_type": "code",
      "execution_count": 13,
      "metadata": {},
      "outputs": [
        {
          "data": {
            "text/plain": [
              "array([ True,  True,  True,  True,  True,  True,  True,  True,  True,\n",
              "        True,  True,  True,  True,  True,  True,  True,  True,  True,\n",
              "        True,  True,  True,  True,  True,  True,  True,  True,  True,\n",
              "        True,  True,  True,  True,  True,  True,  True,  True,  True,\n",
              "        True,  True,  True,  True,  True,  True,  True,  True,  True,\n",
              "        True,  True,  True,  True,  True,  True,  True,  True,  True,\n",
              "        True,  True,  True,  True,  True,  True,  True,  True])"
            ]
          },
          "execution_count": 13,
          "metadata": {},
          "output_type": "execute_result"
        }
      ],
      "source": [
        "knn = kNNClassifier(d=25)\n",
        "knn.insert_data(X_train_new, y_train1)\n",
        "y_pred3 = knn.predict(X_test_new, k=15)\n",
        "y_pred3 == y_pred"
      ]
    },
    {
      "cell_type": "code",
      "execution_count": 73,
      "metadata": {},
      "outputs": [],
      "source": [
        "from sklearn.svm import SVC"
      ]
    },
    {
      "cell_type": "code",
      "execution_count": 106,
      "metadata": {},
      "outputs": [
        {
          "data": {
            "text/html": [
              "<style>#sk-container-id-22 {\n",
              "  /* Definition of color scheme common for light and dark mode */\n",
              "  --sklearn-color-text: #000;\n",
              "  --sklearn-color-text-muted: #666;\n",
              "  --sklearn-color-line: gray;\n",
              "  /* Definition of color scheme for unfitted estimators */\n",
              "  --sklearn-color-unfitted-level-0: #fff5e6;\n",
              "  --sklearn-color-unfitted-level-1: #f6e4d2;\n",
              "  --sklearn-color-unfitted-level-2: #ffe0b3;\n",
              "  --sklearn-color-unfitted-level-3: chocolate;\n",
              "  /* Definition of color scheme for fitted estimators */\n",
              "  --sklearn-color-fitted-level-0: #f0f8ff;\n",
              "  --sklearn-color-fitted-level-1: #d4ebff;\n",
              "  --sklearn-color-fitted-level-2: #b3dbfd;\n",
              "  --sklearn-color-fitted-level-3: cornflowerblue;\n",
              "\n",
              "  /* Specific color for light theme */\n",
              "  --sklearn-color-text-on-default-background: var(--sg-text-color, var(--theme-code-foreground, var(--jp-content-font-color1, black)));\n",
              "  --sklearn-color-background: var(--sg-background-color, var(--theme-background, var(--jp-layout-color0, white)));\n",
              "  --sklearn-color-border-box: var(--sg-text-color, var(--theme-code-foreground, var(--jp-content-font-color1, black)));\n",
              "  --sklearn-color-icon: #696969;\n",
              "\n",
              "  @media (prefers-color-scheme: dark) {\n",
              "    /* Redefinition of color scheme for dark theme */\n",
              "    --sklearn-color-text-on-default-background: var(--sg-text-color, var(--theme-code-foreground, var(--jp-content-font-color1, white)));\n",
              "    --sklearn-color-background: var(--sg-background-color, var(--theme-background, var(--jp-layout-color0, #111)));\n",
              "    --sklearn-color-border-box: var(--sg-text-color, var(--theme-code-foreground, var(--jp-content-font-color1, white)));\n",
              "    --sklearn-color-icon: #878787;\n",
              "  }\n",
              "}\n",
              "\n",
              "#sk-container-id-22 {\n",
              "  color: var(--sklearn-color-text);\n",
              "}\n",
              "\n",
              "#sk-container-id-22 pre {\n",
              "  padding: 0;\n",
              "}\n",
              "\n",
              "#sk-container-id-22 input.sk-hidden--visually {\n",
              "  border: 0;\n",
              "  clip: rect(1px 1px 1px 1px);\n",
              "  clip: rect(1px, 1px, 1px, 1px);\n",
              "  height: 1px;\n",
              "  margin: -1px;\n",
              "  overflow: hidden;\n",
              "  padding: 0;\n",
              "  position: absolute;\n",
              "  width: 1px;\n",
              "}\n",
              "\n",
              "#sk-container-id-22 div.sk-dashed-wrapped {\n",
              "  border: 1px dashed var(--sklearn-color-line);\n",
              "  margin: 0 0.4em 0.5em 0.4em;\n",
              "  box-sizing: border-box;\n",
              "  padding-bottom: 0.4em;\n",
              "  background-color: var(--sklearn-color-background);\n",
              "}\n",
              "\n",
              "#sk-container-id-22 div.sk-container {\n",
              "  /* jupyter's `normalize.less` sets `[hidden] { display: none; }`\n",
              "     but bootstrap.min.css set `[hidden] { display: none !important; }`\n",
              "     so we also need the `!important` here to be able to override the\n",
              "     default hidden behavior on the sphinx rendered scikit-learn.org.\n",
              "     See: https://github.com/scikit-learn/scikit-learn/issues/21755 */\n",
              "  display: inline-block !important;\n",
              "  position: relative;\n",
              "}\n",
              "\n",
              "#sk-container-id-22 div.sk-text-repr-fallback {\n",
              "  display: none;\n",
              "}\n",
              "\n",
              "div.sk-parallel-item,\n",
              "div.sk-serial,\n",
              "div.sk-item {\n",
              "  /* draw centered vertical line to link estimators */\n",
              "  background-image: linear-gradient(var(--sklearn-color-text-on-default-background), var(--sklearn-color-text-on-default-background));\n",
              "  background-size: 2px 100%;\n",
              "  background-repeat: no-repeat;\n",
              "  background-position: center center;\n",
              "}\n",
              "\n",
              "/* Parallel-specific style estimator block */\n",
              "\n",
              "#sk-container-id-22 div.sk-parallel-item::after {\n",
              "  content: \"\";\n",
              "  width: 100%;\n",
              "  border-bottom: 2px solid var(--sklearn-color-text-on-default-background);\n",
              "  flex-grow: 1;\n",
              "}\n",
              "\n",
              "#sk-container-id-22 div.sk-parallel {\n",
              "  display: flex;\n",
              "  align-items: stretch;\n",
              "  justify-content: center;\n",
              "  background-color: var(--sklearn-color-background);\n",
              "  position: relative;\n",
              "}\n",
              "\n",
              "#sk-container-id-22 div.sk-parallel-item {\n",
              "  display: flex;\n",
              "  flex-direction: column;\n",
              "}\n",
              "\n",
              "#sk-container-id-22 div.sk-parallel-item:first-child::after {\n",
              "  align-self: flex-end;\n",
              "  width: 50%;\n",
              "}\n",
              "\n",
              "#sk-container-id-22 div.sk-parallel-item:last-child::after {\n",
              "  align-self: flex-start;\n",
              "  width: 50%;\n",
              "}\n",
              "\n",
              "#sk-container-id-22 div.sk-parallel-item:only-child::after {\n",
              "  width: 0;\n",
              "}\n",
              "\n",
              "/* Serial-specific style estimator block */\n",
              "\n",
              "#sk-container-id-22 div.sk-serial {\n",
              "  display: flex;\n",
              "  flex-direction: column;\n",
              "  align-items: center;\n",
              "  background-color: var(--sklearn-color-background);\n",
              "  padding-right: 1em;\n",
              "  padding-left: 1em;\n",
              "}\n",
              "\n",
              "\n",
              "/* Toggleable style: style used for estimator/Pipeline/ColumnTransformer box that is\n",
              "clickable and can be expanded/collapsed.\n",
              "- Pipeline and ColumnTransformer use this feature and define the default style\n",
              "- Estimators will overwrite some part of the style using the `sk-estimator` class\n",
              "*/\n",
              "\n",
              "/* Pipeline and ColumnTransformer style (default) */\n",
              "\n",
              "#sk-container-id-22 div.sk-toggleable {\n",
              "  /* Default theme specific background. It is overwritten whether we have a\n",
              "  specific estimator or a Pipeline/ColumnTransformer */\n",
              "  background-color: var(--sklearn-color-background);\n",
              "}\n",
              "\n",
              "/* Toggleable label */\n",
              "#sk-container-id-22 label.sk-toggleable__label {\n",
              "  cursor: pointer;\n",
              "  display: flex;\n",
              "  width: 100%;\n",
              "  margin-bottom: 0;\n",
              "  padding: 0.5em;\n",
              "  box-sizing: border-box;\n",
              "  text-align: center;\n",
              "  align-items: start;\n",
              "  justify-content: space-between;\n",
              "  gap: 0.5em;\n",
              "}\n",
              "\n",
              "#sk-container-id-22 label.sk-toggleable__label .caption {\n",
              "  font-size: 0.6rem;\n",
              "  font-weight: lighter;\n",
              "  color: var(--sklearn-color-text-muted);\n",
              "}\n",
              "\n",
              "#sk-container-id-22 label.sk-toggleable__label-arrow:before {\n",
              "  /* Arrow on the left of the label */\n",
              "  content: \"▸\";\n",
              "  float: left;\n",
              "  margin-right: 0.25em;\n",
              "  color: var(--sklearn-color-icon);\n",
              "}\n",
              "\n",
              "#sk-container-id-22 label.sk-toggleable__label-arrow:hover:before {\n",
              "  color: var(--sklearn-color-text);\n",
              "}\n",
              "\n",
              "/* Toggleable content - dropdown */\n",
              "\n",
              "#sk-container-id-22 div.sk-toggleable__content {\n",
              "  max-height: 0;\n",
              "  max-width: 0;\n",
              "  overflow: hidden;\n",
              "  text-align: left;\n",
              "  /* unfitted */\n",
              "  background-color: var(--sklearn-color-unfitted-level-0);\n",
              "}\n",
              "\n",
              "#sk-container-id-22 div.sk-toggleable__content.fitted {\n",
              "  /* fitted */\n",
              "  background-color: var(--sklearn-color-fitted-level-0);\n",
              "}\n",
              "\n",
              "#sk-container-id-22 div.sk-toggleable__content pre {\n",
              "  margin: 0.2em;\n",
              "  border-radius: 0.25em;\n",
              "  color: var(--sklearn-color-text);\n",
              "  /* unfitted */\n",
              "  background-color: var(--sklearn-color-unfitted-level-0);\n",
              "}\n",
              "\n",
              "#sk-container-id-22 div.sk-toggleable__content.fitted pre {\n",
              "  /* unfitted */\n",
              "  background-color: var(--sklearn-color-fitted-level-0);\n",
              "}\n",
              "\n",
              "#sk-container-id-22 input.sk-toggleable__control:checked~div.sk-toggleable__content {\n",
              "  /* Expand drop-down */\n",
              "  max-height: 200px;\n",
              "  max-width: 100%;\n",
              "  overflow: auto;\n",
              "}\n",
              "\n",
              "#sk-container-id-22 input.sk-toggleable__control:checked~label.sk-toggleable__label-arrow:before {\n",
              "  content: \"▾\";\n",
              "}\n",
              "\n",
              "/* Pipeline/ColumnTransformer-specific style */\n",
              "\n",
              "#sk-container-id-22 div.sk-label input.sk-toggleable__control:checked~label.sk-toggleable__label {\n",
              "  color: var(--sklearn-color-text);\n",
              "  background-color: var(--sklearn-color-unfitted-level-2);\n",
              "}\n",
              "\n",
              "#sk-container-id-22 div.sk-label.fitted input.sk-toggleable__control:checked~label.sk-toggleable__label {\n",
              "  background-color: var(--sklearn-color-fitted-level-2);\n",
              "}\n",
              "\n",
              "/* Estimator-specific style */\n",
              "\n",
              "/* Colorize estimator box */\n",
              "#sk-container-id-22 div.sk-estimator input.sk-toggleable__control:checked~label.sk-toggleable__label {\n",
              "  /* unfitted */\n",
              "  background-color: var(--sklearn-color-unfitted-level-2);\n",
              "}\n",
              "\n",
              "#sk-container-id-22 div.sk-estimator.fitted input.sk-toggleable__control:checked~label.sk-toggleable__label {\n",
              "  /* fitted */\n",
              "  background-color: var(--sklearn-color-fitted-level-2);\n",
              "}\n",
              "\n",
              "#sk-container-id-22 div.sk-label label.sk-toggleable__label,\n",
              "#sk-container-id-22 div.sk-label label {\n",
              "  /* The background is the default theme color */\n",
              "  color: var(--sklearn-color-text-on-default-background);\n",
              "}\n",
              "\n",
              "/* On hover, darken the color of the background */\n",
              "#sk-container-id-22 div.sk-label:hover label.sk-toggleable__label {\n",
              "  color: var(--sklearn-color-text);\n",
              "  background-color: var(--sklearn-color-unfitted-level-2);\n",
              "}\n",
              "\n",
              "/* Label box, darken color on hover, fitted */\n",
              "#sk-container-id-22 div.sk-label.fitted:hover label.sk-toggleable__label.fitted {\n",
              "  color: var(--sklearn-color-text);\n",
              "  background-color: var(--sklearn-color-fitted-level-2);\n",
              "}\n",
              "\n",
              "/* Estimator label */\n",
              "\n",
              "#sk-container-id-22 div.sk-label label {\n",
              "  font-family: monospace;\n",
              "  font-weight: bold;\n",
              "  display: inline-block;\n",
              "  line-height: 1.2em;\n",
              "}\n",
              "\n",
              "#sk-container-id-22 div.sk-label-container {\n",
              "  text-align: center;\n",
              "}\n",
              "\n",
              "/* Estimator-specific */\n",
              "#sk-container-id-22 div.sk-estimator {\n",
              "  font-family: monospace;\n",
              "  border: 1px dotted var(--sklearn-color-border-box);\n",
              "  border-radius: 0.25em;\n",
              "  box-sizing: border-box;\n",
              "  margin-bottom: 0.5em;\n",
              "  /* unfitted */\n",
              "  background-color: var(--sklearn-color-unfitted-level-0);\n",
              "}\n",
              "\n",
              "#sk-container-id-22 div.sk-estimator.fitted {\n",
              "  /* fitted */\n",
              "  background-color: var(--sklearn-color-fitted-level-0);\n",
              "}\n",
              "\n",
              "/* on hover */\n",
              "#sk-container-id-22 div.sk-estimator:hover {\n",
              "  /* unfitted */\n",
              "  background-color: var(--sklearn-color-unfitted-level-2);\n",
              "}\n",
              "\n",
              "#sk-container-id-22 div.sk-estimator.fitted:hover {\n",
              "  /* fitted */\n",
              "  background-color: var(--sklearn-color-fitted-level-2);\n",
              "}\n",
              "\n",
              "/* Specification for estimator info (e.g. \"i\" and \"?\") */\n",
              "\n",
              "/* Common style for \"i\" and \"?\" */\n",
              "\n",
              ".sk-estimator-doc-link,\n",
              "a:link.sk-estimator-doc-link,\n",
              "a:visited.sk-estimator-doc-link {\n",
              "  float: right;\n",
              "  font-size: smaller;\n",
              "  line-height: 1em;\n",
              "  font-family: monospace;\n",
              "  background-color: var(--sklearn-color-background);\n",
              "  border-radius: 1em;\n",
              "  height: 1em;\n",
              "  width: 1em;\n",
              "  text-decoration: none !important;\n",
              "  margin-left: 0.5em;\n",
              "  text-align: center;\n",
              "  /* unfitted */\n",
              "  border: var(--sklearn-color-unfitted-level-1) 1pt solid;\n",
              "  color: var(--sklearn-color-unfitted-level-1);\n",
              "}\n",
              "\n",
              ".sk-estimator-doc-link.fitted,\n",
              "a:link.sk-estimator-doc-link.fitted,\n",
              "a:visited.sk-estimator-doc-link.fitted {\n",
              "  /* fitted */\n",
              "  border: var(--sklearn-color-fitted-level-1) 1pt solid;\n",
              "  color: var(--sklearn-color-fitted-level-1);\n",
              "}\n",
              "\n",
              "/* On hover */\n",
              "div.sk-estimator:hover .sk-estimator-doc-link:hover,\n",
              ".sk-estimator-doc-link:hover,\n",
              "div.sk-label-container:hover .sk-estimator-doc-link:hover,\n",
              ".sk-estimator-doc-link:hover {\n",
              "  /* unfitted */\n",
              "  background-color: var(--sklearn-color-unfitted-level-3);\n",
              "  color: var(--sklearn-color-background);\n",
              "  text-decoration: none;\n",
              "}\n",
              "\n",
              "div.sk-estimator.fitted:hover .sk-estimator-doc-link.fitted:hover,\n",
              ".sk-estimator-doc-link.fitted:hover,\n",
              "div.sk-label-container:hover .sk-estimator-doc-link.fitted:hover,\n",
              ".sk-estimator-doc-link.fitted:hover {\n",
              "  /* fitted */\n",
              "  background-color: var(--sklearn-color-fitted-level-3);\n",
              "  color: var(--sklearn-color-background);\n",
              "  text-decoration: none;\n",
              "}\n",
              "\n",
              "/* Span, style for the box shown on hovering the info icon */\n",
              ".sk-estimator-doc-link span {\n",
              "  display: none;\n",
              "  z-index: 9999;\n",
              "  position: relative;\n",
              "  font-weight: normal;\n",
              "  right: .2ex;\n",
              "  padding: .5ex;\n",
              "  margin: .5ex;\n",
              "  width: min-content;\n",
              "  min-width: 20ex;\n",
              "  max-width: 50ex;\n",
              "  color: var(--sklearn-color-text);\n",
              "  box-shadow: 2pt 2pt 4pt #999;\n",
              "  /* unfitted */\n",
              "  background: var(--sklearn-color-unfitted-level-0);\n",
              "  border: .5pt solid var(--sklearn-color-unfitted-level-3);\n",
              "}\n",
              "\n",
              ".sk-estimator-doc-link.fitted span {\n",
              "  /* fitted */\n",
              "  background: var(--sklearn-color-fitted-level-0);\n",
              "  border: var(--sklearn-color-fitted-level-3);\n",
              "}\n",
              "\n",
              ".sk-estimator-doc-link:hover span {\n",
              "  display: block;\n",
              "}\n",
              "\n",
              "/* \"?\"-specific style due to the `<a>` HTML tag */\n",
              "\n",
              "#sk-container-id-22 a.estimator_doc_link {\n",
              "  float: right;\n",
              "  font-size: 1rem;\n",
              "  line-height: 1em;\n",
              "  font-family: monospace;\n",
              "  background-color: var(--sklearn-color-background);\n",
              "  border-radius: 1rem;\n",
              "  height: 1rem;\n",
              "  width: 1rem;\n",
              "  text-decoration: none;\n",
              "  /* unfitted */\n",
              "  color: var(--sklearn-color-unfitted-level-1);\n",
              "  border: var(--sklearn-color-unfitted-level-1) 1pt solid;\n",
              "}\n",
              "\n",
              "#sk-container-id-22 a.estimator_doc_link.fitted {\n",
              "  /* fitted */\n",
              "  border: var(--sklearn-color-fitted-level-1) 1pt solid;\n",
              "  color: var(--sklearn-color-fitted-level-1);\n",
              "}\n",
              "\n",
              "/* On hover */\n",
              "#sk-container-id-22 a.estimator_doc_link:hover {\n",
              "  /* unfitted */\n",
              "  background-color: var(--sklearn-color-unfitted-level-3);\n",
              "  color: var(--sklearn-color-background);\n",
              "  text-decoration: none;\n",
              "}\n",
              "\n",
              "#sk-container-id-22 a.estimator_doc_link.fitted:hover {\n",
              "  /* fitted */\n",
              "  background-color: var(--sklearn-color-fitted-level-3);\n",
              "}\n",
              "</style><div id=\"sk-container-id-22\" class=\"sk-top-container\"><div class=\"sk-text-repr-fallback\"><pre>SVC()</pre><b>In a Jupyter environment, please rerun this cell to show the HTML representation or trust the notebook. <br />On GitHub, the HTML representation is unable to render, please try loading this page with nbviewer.org.</b></div><div class=\"sk-container\" hidden><div class=\"sk-item\"><div class=\"sk-estimator fitted sk-toggleable\"><input class=\"sk-toggleable__control sk-hidden--visually\" id=\"sk-estimator-id-22\" type=\"checkbox\" checked><label for=\"sk-estimator-id-22\" class=\"sk-toggleable__label fitted sk-toggleable__label-arrow\"><div><div>SVC</div></div><div><a class=\"sk-estimator-doc-link fitted\" rel=\"noreferrer\" target=\"_blank\" href=\"https://scikit-learn.org/1.6/modules/generated/sklearn.svm.SVC.html\">?<span>Documentation for SVC</span></a><span class=\"sk-estimator-doc-link fitted\">i<span>Fitted</span></span></div></label><div class=\"sk-toggleable__content fitted\"><pre>SVC()</pre></div> </div></div></div></div>"
            ],
            "text/plain": [
              "SVC()"
            ]
          },
          "execution_count": 106,
          "metadata": {},
          "output_type": "execute_result"
        }
      ],
      "source": [
        "svc = SVC(kernel='rbf')\n",
        "svc.fit(X_train_new,  y_train1.reshape(y_train1.shape[0],))"
      ]
    },
    {
      "cell_type": "code",
      "execution_count": 107,
      "metadata": {},
      "outputs": [
        {
          "data": {
            "text/plain": [
              "array([0, 0, 0, 1, 0, 0, 0, 0, 0, 1, 1, 0, 0, 0, 0, 0, 0, 0, 0, 0, 0, 0,\n",
              "       0, 0, 0, 0, 0, 0, 0, 0, 0, 0, 0, 0, 0, 1, 0, 0, 0, 1, 0, 0, 0, 0,\n",
              "       0, 0, 0, 0, 0, 0, 0, 0, 0, 1, 0, 0, 0, 1, 0, 0, 0, 0])"
            ]
          },
          "execution_count": 107,
          "metadata": {},
          "output_type": "execute_result"
        }
      ],
      "source": [
        "y_pred2  = svc.predict(X_test_new)\n",
        "y_pred2"
      ]
    },
    {
      "cell_type": "code",
      "execution_count": 139,
      "metadata": {},
      "outputs": [
        {
          "data": {
            "text/plain": [
              "array([0, 0, 0, 1, 0, 0, 0, 0, 0, 0, 1, 0, 0, 0, 0, 0, 0, 0, 0, 0, 0, 0,\n",
              "       0, 0, 1, 0, 0, 0, 0, 0, 0, 0, 0, 0, 0, 1, 0, 0, 0, 1, 0, 0, 1, 0,\n",
              "       0, 0, 0, 0, 0, 0, 0, 0, 0, 1, 0, 0, 0, 1, 0, 0, 0, 0])"
            ]
          },
          "execution_count": 139,
          "metadata": {},
          "output_type": "execute_result"
        }
      ],
      "source": [
        "y_pred3"
      ]
    }
  ],
  "metadata": {
    "colab": {
      "collapsed_sections": [
        "cLTToxcZZxx6"
      ],
      "provenance": []
    },
    "kernelspec": {
      "display_name": ".venv",
      "language": "python",
      "name": "python3"
    },
    "language_info": {
      "codemirror_mode": {
        "name": "ipython",
        "version": 3
      },
      "file_extension": ".py",
      "mimetype": "text/x-python",
      "name": "python",
      "nbconvert_exporter": "python",
      "pygments_lexer": "ipython3",
      "version": "3.12.4"
    }
  },
  "nbformat": 4,
  "nbformat_minor": 0
}
